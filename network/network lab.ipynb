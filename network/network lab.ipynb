{
 "cells": [
  {
   "cell_type": "code",
   "execution_count": null,
   "metadata": {
    "deletable": false,
    "editable": false
   },
   "outputs": [],
   "source": [
    "# Initialize Otter\n",
    "import otter\n",
    "grader = otter.Notebook(\"network lab.ipynb\")"
   ]
  },
  {
   "cell_type": "code",
   "execution_count": null,
   "metadata": {},
   "outputs": [],
   "source": [
    "import numpy as np\n",
    "import pandas as pd\n",
    "import seaborn as sns\n",
    "import networkx as nx\n",
    "SEED = 3383"
   ]
  },
  {
   "cell_type": "markdown",
   "metadata": {},
   "source": [
    "# 0. Data preparation\n",
    "\n",
    "The following is a network of connections within part of the brain of a fly."
   ]
  },
  {
   "cell_type": "code",
   "execution_count": null,
   "metadata": {},
   "outputs": [],
   "source": [
    "fly = nx.read_edgelist(\"bn-fly-drosophila_medulla_1.edges\",nodetype=int)\n",
    "n = fly.number_of_nodes()\n",
    "print(n,\"nodes\")"
   ]
  },
  {
   "cell_type": "markdown",
   "metadata": {},
   "source": [
    "This network has a feature that we have not allowed so far: some nodes link to themselves. These appear, for example, as nonzeros on the diagonal of the adjacency matrix. "
   ]
  },
  {
   "cell_type": "code",
   "execution_count": null,
   "metadata": {},
   "outputs": [],
   "source": [
    "A = nx.adjacency_matrix(fly).toarray()\n",
    "print(sum(A[i,i] for i in range(n)),\"self-linked nodes\")"
   ]
  },
  {
   "cell_type": "markdown",
   "metadata": {},
   "source": [
    "We will get rid of these self-links by zeroing out the diagonal and reconstructing the graph from the modified adjacency matrix. This will also relabel the nodes to go in order from 0 to $n-1$."
   ]
  },
  {
   "cell_type": "code",
   "execution_count": null,
   "metadata": {},
   "outputs": [],
   "source": [
    "np.fill_diagonal(A,0)\n",
    "fly = nx.from_numpy_array(A)\n",
    "nodes = pd.Index(fly.nodes)"
   ]
  },
  {
   "cell_type": "markdown",
   "metadata": {},
   "source": [
    "# 1. Basic info"
   ]
  },
  {
   "cell_type": "markdown",
   "metadata": {},
   "source": [
    "## 1.1 \n",
    "\n",
    "Compute the average node degree of the network."
   ]
  },
  {
   "cell_type": "code",
   "execution_count": null,
   "metadata": {
    "tags": []
   },
   "outputs": [],
   "source": [
    "kbar = ...\n",
    "\n",
    "# No need to change this line.\n",
    "print(\"average degree is\",kbar)"
   ]
  },
  {
   "cell_type": "code",
   "execution_count": null,
   "metadata": {
    "deletable": false,
    "editable": false
   },
   "outputs": [],
   "source": [
    "grader.check(\"info-kbar\")"
   ]
  },
  {
   "cell_type": "markdown",
   "metadata": {},
   "source": [
    "<!-- BEGIN QUESTION -->\n",
    "\n",
    "## 1.2 \n",
    "\n",
    "Draw the ego graph of node 80, with labels for the nodes."
   ]
  },
  {
   "cell_type": "code",
   "execution_count": null,
   "metadata": {
    "tags": []
   },
   "outputs": [],
   "source": []
  },
  {
   "cell_type": "markdown",
   "metadata": {},
   "source": [
    "<!-- END QUESTION -->\n",
    "\n",
    "## 1.3 \n",
    "\n",
    "Create a list of all the nodes that are adjacent to node 9."
   ]
  },
  {
   "cell_type": "code",
   "execution_count": null,
   "metadata": {
    "tags": []
   },
   "outputs": [],
   "source": [
    "nbrs9 = ...\n",
    "\n",
    "# No need to change the following line.\n",
    "print(\"neighbors of node 9:\",nbrs9)"
   ]
  },
  {
   "cell_type": "code",
   "execution_count": null,
   "metadata": {
    "deletable": false,
    "editable": false
   },
   "outputs": [],
   "source": [
    "grader.check(\"info-neighbors\")"
   ]
  },
  {
   "cell_type": "markdown",
   "metadata": {},
   "source": [
    "# 2. Clustering and distance"
   ]
  },
  {
   "cell_type": "markdown",
   "metadata": {},
   "source": [
    "## 2.1\n",
    "Create a Series for the local clustering coefficients in the network."
   ]
  },
  {
   "cell_type": "code",
   "execution_count": null,
   "metadata": {
    "tags": []
   },
   "outputs": [],
   "source": [
    "cluster = ...\n",
    "\n",
    "# No need to change the following lines.\n",
    "print(\"clustering coeffs:\")\n",
    "print(cluster.describe())"
   ]
  },
  {
   "cell_type": "code",
   "execution_count": null,
   "metadata": {
    "deletable": false,
    "editable": false
   },
   "outputs": [],
   "source": [
    "grader.check(\"cluster-values\")"
   ]
  },
  {
   "cell_type": "markdown",
   "metadata": {},
   "source": [
    "## 2.2\n",
    "\n",
    "Compute $T(110)$, the number of triangles that have node 110 as a vertex. Then, apply the formula\n",
    "\n",
    "$$\n",
    "\\frac{2T(110)}{d_{110}(d_{110}-1)},\n",
    "$$\n",
    "\n",
    "where $d_{110}$ is the degree of node 110, to get the clustering coefficient of 110."
   ]
  },
  {
   "cell_type": "code",
   "execution_count": null,
   "metadata": {
    "tags": []
   },
   "outputs": [],
   "source": [
    "# Set this to the number of triangles.\n",
    "T110 = ...\n",
    "\n",
    "# Set this to the local clustering coefficient.\n",
    "C110 = ...\n",
    "\n",
    "# No need to change the following line.\n",
    "print(T110,\"adjacent triangles, giving clustering coefficient\",C110)"
   ]
  },
  {
   "cell_type": "code",
   "execution_count": null,
   "metadata": {
    "deletable": false,
    "editable": false
   },
   "outputs": [],
   "source": [
    "grader.check(\"cluster-110\")"
   ]
  },
  {
   "cell_type": "markdown",
   "metadata": {},
   "source": [
    "## 2.3\n",
    "\n",
    "Let $k$ be the integer closest to `kbar`. For each $q=0,0.02,0.04,0.06,\\ldots$, compute and print out the average clustering coefficient of a Watts–Strogatz graph for $n$, $k$, and $q$, with random seed equal to `SEED`. When the average coefficient is smaller than the average clustering coefficient of the `fly` graph, stop."
   ]
  },
  {
   "cell_type": "code",
   "execution_count": null,
   "metadata": {
    "tags": []
   },
   "outputs": [],
   "source": [
    "# Exit this loop when the average WS clustering exceeds the average clustering in the fly graph.\n",
    "for q in np.arange(0,0.5,0.02):\n",
    "\n",
    "# No need to change the following line.\n",
    "print(\"final value of q is\",q)"
   ]
  },
  {
   "cell_type": "code",
   "execution_count": null,
   "metadata": {
    "deletable": false,
    "editable": false
   },
   "outputs": [],
   "source": [
    "grader.check(\"cluster-WS\")"
   ]
  },
  {
   "cell_type": "markdown",
   "metadata": {},
   "source": [
    "## 2.4\n",
    "Compute the mean shortest path length between all pairs of nodes in the largest connected component of the `fly` graph. (This computation might take 20-60 seconds, depending on the speed of the computer you use.)"
   ]
  },
  {
   "cell_type": "code",
   "execution_count": null,
   "metadata": {
    "tags": []
   },
   "outputs": [],
   "source": [
    "avg_dist = ...\n",
    "\n",
    "# No need to change the following line.\n",
    "print(\"average shortest path length:\",avg_dist)"
   ]
  },
  {
   "cell_type": "code",
   "execution_count": null,
   "metadata": {
    "deletable": false,
    "editable": false
   },
   "outputs": [],
   "source": [
    "grader.check(\"distance-average\")"
   ]
  },
  {
   "cell_type": "markdown",
   "metadata": {},
   "source": [
    "# 3. Degree distribution "
   ]
  },
  {
   "cell_type": "markdown",
   "metadata": {},
   "source": [
    "## 3.1\n",
    "Create a Series of the node degrees in the `fly` graph."
   ]
  },
  {
   "cell_type": "code",
   "execution_count": null,
   "metadata": {
    "tags": []
   },
   "outputs": [],
   "source": [
    "degrees = ...\n",
    "\n",
    "# No need to change the following line.\n",
    "print(\"node degrees for fly graph:\\n\",degrees.describe())"
   ]
  },
  {
   "cell_type": "code",
   "execution_count": null,
   "metadata": {
    "deletable": false,
    "editable": false
   },
   "outputs": [],
   "source": [
    "grader.check(\"degree-series\")"
   ]
  },
  {
   "cell_type": "markdown",
   "metadata": {},
   "source": [
    "<!-- BEGIN QUESTION -->\n",
    "\n",
    "## 3.2\n",
    " Using log scales on both axes, plot a histogram of the degree distribution. You should see a rough linear trend in the resulting plot."
   ]
  },
  {
   "cell_type": "code",
   "execution_count": null,
   "metadata": {
    "tags": []
   },
   "outputs": [],
   "source": []
  },
  {
   "cell_type": "markdown",
   "metadata": {},
   "source": [
    "<!-- END QUESTION -->\n",
    "\n",
    "## 3.4\n",
    " Create a Barabási–Albert graph with random seed `SEED`, the same number of nodes as the `fly` graph, and parameter $m$ equal to the integer nearest to half the average degree of the `fly` graph. Find the standard deviation of its degree distribution."
   ]
  },
  {
   "cell_type": "code",
   "execution_count": null,
   "metadata": {
    "tags": []
   },
   "outputs": [],
   "source": [
    "# This should be assigned to a Graph object.\n",
    "BA = ...\n",
    "\n",
    "# This should get the value of the standard deviation of the degree distribution.\n",
    "BA_deg_stdev = ...\n",
    "\n",
    "# No need to change the following lines.\n",
    "print(\"BA graph has\",len(BA),\"nodes and\",BA.number_of_edges(),\"edges\")\n",
    "print(\"and node degrees with standard deviation\",BA_deg_stdev)"
   ]
  },
  {
   "cell_type": "code",
   "execution_count": null,
   "metadata": {
    "deletable": false,
    "editable": false
   },
   "outputs": [],
   "source": [
    "grader.check(\"degree-BA\")"
   ]
  },
  {
   "cell_type": "markdown",
   "metadata": {},
   "source": [
    "# 4. Centrality"
   ]
  },
  {
   "cell_type": "markdown",
   "metadata": {},
   "source": [
    "## 4.1\n",
    "Create a data frame indexed by node and with columns named *degree*, *betweenness*, and *eigenvector* for centrality measures."
   ]
  },
  {
   "cell_type": "code",
   "execution_count": null,
   "metadata": {
    "tags": []
   },
   "outputs": [],
   "source": [
    "# This should be a data frame indexed by nodes and with 3 columns for centrality measures. Fidn the mean value in each column.\n",
    "centrality = ...\n",
    "# These should be assigned to the means of the three columns.\n",
    "dc_mean = ...\n",
    "bc_mean = ...\n",
    "ec_mean = ...\n",
    "\n",
    "# No need to change the following lines.\n",
    "print(\"centrality scores\\n:\",centrality)\n",
    "print(\"with means\",dc_mean,\",\",bc_mean,\",\",ec_mean)"
   ]
  },
  {
   "cell_type": "code",
   "execution_count": null,
   "metadata": {
    "deletable": false,
    "editable": false
   },
   "outputs": [],
   "source": [
    "grader.check(\"central-columns\")"
   ]
  },
  {
   "cell_type": "markdown",
   "metadata": {},
   "source": [
    "## 4.2\n",
    "Of the three pairings degree-betweenness, degree-eigenvector, and betweenness-eigenvector, find the Pearson correlation coefficient of centrality scores for the pairing that is the *least* strongly correlated."
   ]
  },
  {
   "cell_type": "code",
   "execution_count": null,
   "metadata": {
    "tags": []
   },
   "outputs": [],
   "source": [
    "min_correlation = ...\n",
    "\n",
    "# No need to change the following line.\n",
    "print(\"weakest correlation is\",min_correlation)"
   ]
  },
  {
   "cell_type": "code",
   "execution_count": null,
   "metadata": {
    "deletable": false,
    "editable": false
   },
   "outputs": [],
   "source": [
    "grader.check(\"central-corr\")"
   ]
  },
  {
   "cell_type": "markdown",
   "metadata": {},
   "source": [
    "## 4.3\n",
    "For each type of centrality score, find the 10 highest-scoring nodes."
   ]
  },
  {
   "cell_type": "code",
   "execution_count": null,
   "metadata": {
    "tags": []
   },
   "outputs": [],
   "source": [
    "# Each should be an array, list, or Series.\n",
    "top_degree = ...\n",
    "top_betweenness = ...\n",
    "top_eigenvector = ...\n",
    "\n",
    "# No need to change these lines.\n",
    "results = pd.DataFrame({\"degree\":top_degree,\"betweenness\":top_betweenness,\"eigenvector\":top_eigenvector})\n",
    "print(results)"
   ]
  },
  {
   "cell_type": "code",
   "execution_count": null,
   "metadata": {
    "deletable": false,
    "editable": false
   },
   "outputs": [],
   "source": [
    "grader.check(\"central-rank\")"
   ]
  },
  {
   "cell_type": "markdown",
   "metadata": {
    "deletable": false,
    "editable": false
   },
   "source": [
    "---\n",
    "\n",
    "To double-check your work, the cell below will rerun all of the autograder tests."
   ]
  },
  {
   "cell_type": "code",
   "execution_count": null,
   "metadata": {
    "deletable": false,
    "editable": false
   },
   "outputs": [],
   "source": [
    "grader.check_all()"
   ]
  },
  {
   "cell_type": "markdown",
   "metadata": {
    "deletable": false,
    "editable": false
   },
   "source": [
    "## Submission\n",
    "\n",
    "Make sure you have run all cells in your notebook in order before running the cell below, so that all images/graphs appear in the output. The cell below will generate a zip file for you to submit.\n",
    "\n",
    "Select *Kernel/Restart & Run All*, then save, then run this export cell again. Submit by pushing the resulting zip file to your GitHub assignment repo."
   ]
  },
  {
   "cell_type": "code",
   "execution_count": null,
   "metadata": {
    "deletable": false,
    "editable": false
   },
   "outputs": [],
   "source": [
    "grader.export(pdf=False, force_save=True)"
   ]
  },
  {
   "cell_type": "markdown",
   "metadata": {},
   "source": [
    " "
   ]
  }
 ],
 "metadata": {
  "interpreter": {
   "hash": "0cf6273b2f0cea9a779bc7d280535c5e5f4a806bee5f7a87ff212d1397aee730"
  },
  "kernelspec": {
   "display_name": "Python 3.8.12 ('datasci1')",
   "language": "python",
   "name": "python3"
  },
  "language_info": {
   "codemirror_mode": {
    "name": "ipython",
    "version": 3
   },
   "file_extension": ".py",
   "mimetype": "text/x-python",
   "name": "python",
   "nbconvert_exporter": "python",
   "pygments_lexer": "ipython3",
   "version": "3.9.7"
  },
  "otter": {
   "tests": {
    "central-columns": {
     "name": "central-columns",
     "points": 4,
     "suites": [
      {
       "cases": [
        {
         "code": ">>> assert all(centrality.index == fly.nodes)\n",
         "failure_message": "The index of the frame has to be the nodes property of the fly graph.",
         "hidden": false,
         "locked": false,
         "points": 0
        },
        {
         "code": ">>> assert centrality.shape == (fly.number_of_nodes(),3)\n",
         "failure_message": "The frame has the wrong shape.",
         "hidden": false,
         "locked": false,
         "points": 0
        },
        {
         "code": ">>> assert np.isclose(centrality.betweenness.mean(),0.001060709032607)\n>>> assert np.isclose(centrality.eigenvector.mean(),0.0131148,rtol=1e-4)\n",
         "failure_message": "Some of the frame's values are wrong.",
         "hidden": false,
         "locked": false,
         "points": 0
        }
       ],
       "scored": true,
       "setup": "",
       "teardown": "",
       "type": "doctest"
      }
     ]
    },
    "central-corr": {
     "name": "central-corr",
     "points": 4,
     "suites": [
      {
       "cases": [
        {
         "code": ">>> assert 0 <= min_correlation <= 1\n",
         "failure_message": "The correlation coefficient should be between 0 and 1.",
         "hidden": false,
         "locked": false
        }
       ],
       "scored": true,
       "setup": "",
       "teardown": "",
       "type": "doctest"
      }
     ]
    },
    "central-rank": {
     "name": "central-rank",
     "points": null,
     "suites": [
      {
       "cases": [
        {
         "code": ">>> assert sum((results==133).sum()) == 2\n",
         "failure_message": "Node 133 should appear in two of the lists.",
         "hidden": false,
         "locked": false,
         "points": 0
        }
       ],
       "scored": true,
       "setup": "",
       "teardown": "",
       "type": "doctest"
      }
     ]
    },
    "cluster-110": {
     "name": "cluster-110",
     "points": 4,
     "suites": [
      {
       "cases": [
        {
         "code": ">>> assert 580 <= T110 <= 600\n",
         "failure_message": "T110 should be in the interval [580,600].",
         "hidden": false,
         "locked": false,
         "points": 0
        },
        {
         "code": ">>> assert 0.14 <= C110 <= 0.16\n",
         "failure_message": "C110 should be in the interval [0.14,0.16].",
         "hidden": false,
         "locked": false,
         "points": 0
        }
       ],
       "scored": true,
       "setup": "",
       "teardown": "",
       "type": "doctest"
      }
     ]
    },
    "cluster-WS": {
     "name": "cluster-WS",
     "points": 4,
     "suites": [
      {
       "cases": [
        {
         "code": ">>> assert 0.2 <= q <= 0.3\n",
         "failure_message": "The final q should be in the interval $[0.2,0.3]$.",
         "hidden": false,
         "locked": false,
         "points": 0
        }
       ],
       "scored": true,
       "setup": "",
       "teardown": "",
       "type": "doctest"
      }
     ]
    },
    "cluster-values": {
     "name": "cluster-values",
     "points": 4,
     "suites": [
      {
       "cases": [
        {
         "code": ">>> assert np.isclose(cluster.mean(),0.26284869232685665)\n",
         "failure_message": "The clustering values are wrong.",
         "hidden": false,
         "locked": false,
         "points": 0
        }
       ],
       "scored": true,
       "setup": "",
       "teardown": "",
       "type": "doctest"
      }
     ]
    },
    "degree-BA": {
     "name": "degree-BA",
     "points": 4,
     "suites": [
      {
       "cases": [
        {
         "code": ">>> assert np.isclose(nx.average_clustering(BA),0.02941239985)\n",
         "failure_message": "The BA graph is wrong.",
         "hidden": false,
         "locked": false,
         "points": 0
        }
       ],
       "scored": true,
       "setup": "",
       "teardown": "",
       "type": "doctest"
      }
     ]
    },
    "degree-series": {
     "name": "degree-series",
     "points": 2,
     "suites": [
      {
       "cases": [
        {
         "code": ">>> assert degrees.count()==1781\n",
         "failure_message": "The largest connected component has 1770 nodes.",
         "hidden": false,
         "locked": false,
         "points": 0
        },
        {
         "code": ">>> assert 9.5 <= degrees.mean() <= 10.5\n",
         "failure_message": "The average degree is in the interval $[9.5,10.5]$.",
         "hidden": false,
         "locked": false,
         "points": 0
        }
       ],
       "scored": true,
       "setup": "",
       "teardown": "",
       "type": "doctest"
      }
     ]
    },
    "distance-average": {
     "name": "distance-average",
     "points": 4,
     "suites": [
      {
       "cases": [
        {
         "code": ">>> assert 2.8 <= avg_dist <= 3.2\n",
         "failure_message": "The average distance is in the interval [2.8,3.2].",
         "hidden": false,
         "locked": false
        }
       ],
       "scored": true,
       "setup": "",
       "teardown": "",
       "type": "doctest"
      }
     ]
    },
    "info-kbar": {
     "name": "info-kbar",
     "points": 2,
     "suites": [
      {
       "cases": [
        {
         "code": ">>> assert 9 <= kbar <= 12\n",
         "failure_message": "The average degree should be in the interval [9,12].",
         "hidden": false,
         "locked": false
        }
       ],
       "scored": true,
       "setup": "",
       "teardown": "",
       "type": "doctest"
      }
     ]
    },
    "info-neighbors": {
     "name": "info-neighbors",
     "points": 4,
     "suites": [
      {
       "cases": [
        {
         "code": ">>> assert len(nbrs9) == fly.degree[9]\n",
         "failure_message": "The number of neighbors should equal the degree of the node.",
         "hidden": false,
         "locked": false,
         "points": 0
        }
       ],
       "scored": true,
       "setup": "",
       "teardown": "",
       "type": "doctest"
      }
     ]
    }
   }
  }
 },
 "nbformat": 4,
 "nbformat_minor": 2
}
