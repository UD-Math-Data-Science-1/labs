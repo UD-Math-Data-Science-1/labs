{
 "cells": [
  {
   "cell_type": "code",
   "execution_count": null,
   "metadata": {
    "deletable": false,
    "editable": false
   },
   "outputs": [],
   "source": [
    "# Initialize Otter\n",
    "import otter\n",
    "grader = otter.Notebook(\"classification.ipynb\")"
   ]
  },
  {
   "cell_type": "code",
   "execution_count": null,
   "metadata": {},
   "outputs": [],
   "source": [
    "import numpy as np\n",
    "import pandas as pd\n",
    "import seaborn as sns\n",
    "SEED = 2313"
   ]
  },
  {
   "cell_type": "markdown",
   "metadata": {},
   "source": [
    "**Important note** Unless the instruction says otherwise, it's OK if your series or data frame results have additional rows/columns not requested, as long as the required information is shown."
   ]
  },
  {
   "cell_type": "markdown",
   "metadata": {},
   "source": [
    "The following dataset collects information about Google searches related to U.S. major sports leagues (5 professional leagues, plus college football and college baseball), tabulated by location in designated market areas (DMA). The values reflect the shares of all such searches attributed to each league. The last column is the share of the vote won by Donald Trump in the 2016 presidential election.\n",
    "\n",
    "(Note how some extra parameters are used to designate the index column and header row within the CSV file.)\n"
   ]
  },
  {
   "cell_type": "code",
   "execution_count": null,
   "metadata": {},
   "outputs": [],
   "source": [
    "fans = pd.read_csv(\"NFL_fandom_data-google_trends.csv\",index_col=0,header=1)\n",
    "fans"
   ]
  },
  {
   "cell_type": "markdown",
   "metadata": {},
   "source": [
    "## Preliminaries"
   ]
  },
  {
   "cell_type": "markdown",
   "metadata": {},
   "source": [
    "**1.** Overwrite `fans` with a frame in which the percent signs have been stripped out of all the columns, which are then converted to floating-point values."
   ]
  },
  {
   "cell_type": "code",
   "execution_count": null,
   "metadata": {
    "tags": []
   },
   "outputs": [],
   "source": [
    "fans = ..."
   ]
  },
  {
   "cell_type": "code",
   "execution_count": null,
   "metadata": {
    "deletable": false,
    "editable": false
   },
   "outputs": [],
   "source": [
    "grader.check(\"prelim-convert\")"
   ]
  },
  {
   "cell_type": "markdown",
   "metadata": {},
   "source": [
    "**2.** Create a feature matrix (in the form of a frame) from all the columns of `fans` except the last. "
   ]
  },
  {
   "cell_type": "code",
   "execution_count": null,
   "metadata": {
    "tags": []
   },
   "outputs": [],
   "source": [
    "X = ..."
   ]
  },
  {
   "cell_type": "code",
   "execution_count": null,
   "metadata": {
    "deletable": false,
    "editable": false
   },
   "outputs": [],
   "source": [
    "grader.check(\"prelim-features\")"
   ]
  },
  {
   "cell_type": "markdown",
   "metadata": {},
   "source": [
    "**3.** Make a Boolean label series that is `True` in each row where Trump got more than half of the vote."
   ]
  },
  {
   "cell_type": "code",
   "execution_count": null,
   "metadata": {
    "tags": []
   },
   "outputs": [],
   "source": [
    "y = ..."
   ]
  },
  {
   "cell_type": "code",
   "execution_count": null,
   "metadata": {
    "deletable": false,
    "editable": false
   },
   "outputs": [],
   "source": [
    "grader.check(\"prelim-labels\")"
   ]
  },
  {
   "cell_type": "markdown",
   "metadata": {},
   "source": [
    "**4.** Split the dataset, reserving 15% of it for testing and the rest for training. Make sure the split is random and starting from random state 3383."
   ]
  },
  {
   "cell_type": "code",
   "execution_count": null,
   "metadata": {
    "tags": []
   },
   "outputs": [],
   "source": [
    "X_train,X_test,y_train,y_test = "
   ]
  },
  {
   "cell_type": "code",
   "execution_count": null,
   "metadata": {
    "deletable": false,
    "editable": false
   },
   "outputs": [],
   "source": [
    "grader.check(\"prelim-split\")"
   ]
  },
  {
   "cell_type": "markdown",
   "metadata": {},
   "source": [
    "## Decision tree"
   ]
  },
  {
   "cell_type": "markdown",
   "metadata": {},
   "source": [
    "**1.** Train a decision tree of maximum depth 4 on the full dataset. Create a series of predictions using all the data, and compute the accuracy of the classifier.\n",
    "\n",
    "**Important!** The decision tree classifier may randomly break ties among equivalent splits. In order to make your results reproducible, at the classifier creation you have to set its `random_state` equal to `SEED`, which is predefined above for you."
   ]
  },
  {
   "cell_type": "code",
   "execution_count": null,
   "metadata": {
    "tags": []
   },
   "outputs": [],
   "source": [
    "dt = ...\n",
    "yhat = ...\n",
    "accuracy = ..."
   ]
  },
  {
   "cell_type": "code",
   "execution_count": null,
   "metadata": {
    "deletable": false,
    "editable": false
   },
   "outputs": [],
   "source": [
    "grader.check(\"tree-accuracy\")"
   ]
  },
  {
   "cell_type": "markdown",
   "metadata": {},
   "source": [
    "**2.** Considering \"Trump > 50%\" to be the \"positive\" case, how many false positives does the classifier have?"
   ]
  },
  {
   "cell_type": "code",
   "execution_count": null,
   "metadata": {
    "tags": []
   },
   "outputs": [],
   "source": [
    "FP = ..."
   ]
  },
  {
   "cell_type": "markdown",
   "metadata": {},
   "source": [
    "**3.** Considering \"Trump > 50%\" to be \"positive,\" find the recall and F₁ score on the full dataset."
   ]
  },
  {
   "cell_type": "code",
   "execution_count": null,
   "metadata": {
    "tags": []
   },
   "outputs": [],
   "source": [
    "recall = ...\n",
    "F1 = ..."
   ]
  },
  {
   "cell_type": "code",
   "execution_count": null,
   "metadata": {
    "deletable": false,
    "editable": false
   },
   "outputs": [],
   "source": [
    "grader.check(\"tree-scores\")"
   ]
  },
  {
   "cell_type": "markdown",
   "metadata": {},
   "source": [
    "**4.** Which of the sports leagues is most important to the classifier? What fraction of the overall impurity reduction does it account for?"
   ]
  },
  {
   "cell_type": "code",
   "execution_count": null,
   "metadata": {
    "tags": []
   },
   "outputs": [],
   "source": [
    "league = ...\n",
    "fraction = ..."
   ]
  },
  {
   "cell_type": "code",
   "execution_count": null,
   "metadata": {
    "deletable": false,
    "editable": false
   },
   "outputs": [],
   "source": [
    "grader.check(\"tree-importance\")"
   ]
  },
  {
   "cell_type": "markdown",
   "metadata": {},
   "source": [
    "## Nearest neighbors"
   ]
  },
  {
   "cell_type": "markdown",
   "metadata": {},
   "source": [
    "**1.** Each row of the feature matrix `X` is a 7-dimensional vector. Find the 2-norm and 1-norm of the difference of the first two rows."
   ]
  },
  {
   "cell_type": "code",
   "execution_count": null,
   "metadata": {
    "tags": []
   },
   "outputs": [],
   "source": [
    "two_norm = ...\n",
    "one_norm = ..."
   ]
  },
  {
   "cell_type": "code",
   "execution_count": null,
   "metadata": {
    "deletable": false,
    "editable": false
   },
   "outputs": [],
   "source": [
    "grader.check(\"knn-norm\")"
   ]
  },
  {
   "cell_type": "markdown",
   "metadata": {},
   "source": [
    "**3.** Train a nearest neighbors classifier with 5 neighbors on the training set, and measure its accuracy on the test set."
   ]
  },
  {
   "cell_type": "code",
   "execution_count": null,
   "metadata": {
    "tags": []
   },
   "outputs": [],
   "source": [
    "accuracy = ..."
   ]
  },
  {
   "cell_type": "code",
   "execution_count": null,
   "metadata": {
    "deletable": false,
    "editable": false
   },
   "outputs": [],
   "source": [
    "grader.check(\"knn-accuracy\")"
   ]
  },
  {
   "cell_type": "markdown",
   "metadata": {},
   "source": [
    "**4.** Which DMA most resembles a region that has 18% share in each of the professional leagues, plus 5% share in each of *CBB* and *CFB*?"
   ]
  },
  {
   "cell_type": "code",
   "execution_count": null,
   "metadata": {
    "tags": []
   },
   "outputs": [],
   "source": [
    "region = ..."
   ]
  },
  {
   "cell_type": "code",
   "execution_count": null,
   "metadata": {
    "deletable": false,
    "editable": false
   },
   "outputs": [],
   "source": [
    "grader.check(\"knn-neighbors\")"
   ]
  },
  {
   "cell_type": "markdown",
   "metadata": {},
   "source": [
    "**5.** Repeat problem 3 above, but using standardized training data (i.e., Z-scores)."
   ]
  },
  {
   "cell_type": "code",
   "execution_count": null,
   "metadata": {
    "tags": []
   },
   "outputs": [],
   "source": [
    "accuracy = ..."
   ]
  },
  {
   "cell_type": "markdown",
   "metadata": {},
   "source": [
    "## Support vector machine"
   ]
  },
  {
   "cell_type": "markdown",
   "metadata": {},
   "source": [
    "\n",
    "**1.** Using the full dataset, train a linear kernel SVM classifier with $C=0.1$. Find the distance from the last sample observation to the separating hyperplane."
   ]
  },
  {
   "cell_type": "code",
   "execution_count": null,
   "metadata": {
    "tags": []
   },
   "outputs": [],
   "source": [
    "def dot(u,v):\n",
    "    return sum(u[i]*v[i] for i in range(len(u)))\n",
    "dist = ..."
   ]
  },
  {
   "cell_type": "code",
   "execution_count": null,
   "metadata": {
    "deletable": false,
    "editable": false
   },
   "outputs": [],
   "source": [
    "grader.check(\"svm-dist\")"
   ]
  },
  {
   "cell_type": "markdown",
   "metadata": {},
   "source": [
    "\n",
    "**2.** Using the train/test split, compute *F*₁ scores (with \"Trump > 50%\" as \"positive\") for a linear kernel SVM classifier with $C=1$, and for an RBF kernel classifier with $C=10$."
   ]
  },
  {
   "cell_type": "code",
   "execution_count": null,
   "metadata": {
    "tags": []
   },
   "outputs": [],
   "source": [
    "linear = ...\n",
    "\n",
    "rbf = ..."
   ]
  },
  {
   "cell_type": "code",
   "execution_count": null,
   "metadata": {
    "deletable": false,
    "editable": false
   },
   "outputs": [],
   "source": [
    "grader.check(\"svm-f1\")"
   ]
  },
  {
   "cell_type": "markdown",
   "metadata": {},
   "source": [
    "**3.** Repeat the previous problem, but use standardized values (Z-scores)."
   ]
  },
  {
   "cell_type": "code",
   "execution_count": null,
   "metadata": {
    "tags": []
   },
   "outputs": [],
   "source": [
    "linear_standard = ...\n",
    "\n",
    "rbf_standard = ..."
   ]
  },
  {
   "cell_type": "code",
   "execution_count": null,
   "metadata": {
    "deletable": false,
    "editable": false
   },
   "outputs": [],
   "source": [
    "grader.check(\"svm-f1_standard\")"
   ]
  },
  {
   "cell_type": "markdown",
   "metadata": {},
   "source": [
    "## Validation and selection"
   ]
  },
  {
   "cell_type": "markdown",
   "metadata": {},
   "source": [
    "\n",
    "**1.** Create a K-fold cross-validation scheme with 6 folds, starting at random state `SEED`. Use it to find a vector of balanced accuracy scores on the training data of a decision tree classifier with maximum depth 5.\n",
    "\n",
    "**Important!** The decision tree classifier may randomly break ties among equivalent splits. In order to make your results reproducible, at the classifier creation you have to set its `random_state` equal to `SEED`, which is predefined above for you."
   ]
  },
  {
   "cell_type": "code",
   "execution_count": null,
   "metadata": {
    "tags": []
   },
   "outputs": [],
   "source": [
    "test_score = ..."
   ]
  },
  {
   "cell_type": "code",
   "execution_count": null,
   "metadata": {
    "deletable": false,
    "editable": false
   },
   "outputs": [],
   "source": [
    "grader.check(\"vaild-kfold\")"
   ]
  },
  {
   "cell_type": "markdown",
   "metadata": {},
   "source": [
    "<!-- BEGIN QUESTION -->\n",
    "\n",
    "**2.** Using the same setup as in the previous problem, plot cross-validated training and test errors as a function of maximum decision tree depth running from 2 through 12."
   ]
  },
  {
   "cell_type": "code",
   "execution_count": null,
   "metadata": {
    "tags": []
   },
   "outputs": [],
   "source": []
  },
  {
   "cell_type": "markdown",
   "metadata": {},
   "source": [
    "<!-- END QUESTION -->\n",
    "\n",
    "<!-- BEGIN QUESTION -->\n",
    "\n",
    "**3.** Repeat the previous problem using k-nearest neighbor classifiers with the number of neighbors running from 2 through 20, applied to standardized scores."
   ]
  },
  {
   "cell_type": "code",
   "execution_count": null,
   "metadata": {
    "tags": []
   },
   "outputs": [],
   "source": []
  },
  {
   "cell_type": "markdown",
   "metadata": {},
   "source": [
    "<!-- END QUESTION -->\n",
    "\n",
    "<!-- BEGIN QUESTION -->\n",
    "\n",
    "**4.** Repeat the previous problem using an SVM classifier with RBF kernel and $C$ equal to $m/20$ as $m$ ranges over each integer from 1 through 20. Use standardized scores for the training."
   ]
  },
  {
   "cell_type": "code",
   "execution_count": null,
   "metadata": {
    "tags": []
   },
   "outputs": [],
   "source": []
  },
  {
   "cell_type": "markdown",
   "metadata": {},
   "source": [
    "<!-- END QUESTION -->\n",
    "\n",
    "<!-- BEGIN QUESTION -->\n",
    "\n",
    "**5.** For each of the three classifier types, select the hyperparameter value that gives the least error. For each classifier type, train on all of the training data at the optimum value, and then compute the confusion matrix on the test data."
   ]
  },
  {
   "cell_type": "code",
   "execution_count": null,
   "metadata": {
    "tags": []
   },
   "outputs": [],
   "source": []
  },
  {
   "cell_type": "markdown",
   "metadata": {},
   "source": [
    "<!-- END QUESTION -->\n",
    "\n"
   ]
  },
  {
   "cell_type": "markdown",
   "metadata": {
    "deletable": false,
    "editable": false
   },
   "source": [
    "---\n",
    "\n",
    "To double-check your work, the cell below will rerun all of the autograder tests."
   ]
  },
  {
   "cell_type": "code",
   "execution_count": null,
   "metadata": {
    "deletable": false,
    "editable": false
   },
   "outputs": [],
   "source": [
    "grader.check_all()"
   ]
  },
  {
   "cell_type": "markdown",
   "metadata": {
    "deletable": false,
    "editable": false
   },
   "source": [
    "## Submission\n",
    "\n",
    "Make sure you have run all cells in your notebook in order before running the cell below, so that all images/graphs appear in the output. The cell below will generate a zip file for you to submit.\n",
    "\n",
    "Select *Kernel/Restart & Run All*, then save, then run this export cell again. Submit by pushing the resulting zip file to your GitHub assignment repo."
   ]
  },
  {
   "cell_type": "code",
   "execution_count": null,
   "metadata": {
    "deletable": false,
    "editable": false
   },
   "outputs": [],
   "source": [
    "grader.export(pdf=False, force_save=True)"
   ]
  },
  {
   "cell_type": "markdown",
   "metadata": {},
   "source": [
    " "
   ]
  }
 ],
 "metadata": {
  "interpreter": {
   "hash": "0cf6273b2f0cea9a779bc7d280535c5e5f4a806bee5f7a87ff212d1397aee730"
  },
  "kernelspec": {
   "display_name": "Python 3.8.12 64-bit ('datasci1': conda)",
   "language": "python",
   "name": "python3"
  },
  "language_info": {
   "codemirror_mode": {
    "name": "ipython",
    "version": 3
   },
   "file_extension": ".py",
   "mimetype": "text/x-python",
   "name": "python",
   "nbconvert_exporter": "python",
   "pygments_lexer": "ipython3",
   "version": "3.8.12"
  },
  "otter": {
   "tests": {
    "knn-accuracy": {
     "name": "knn-accuracy",
     "points": null,
     "suites": [
      {
       "cases": [
        {
         "code": ">>> assert 0.6 < accuracy < 0.7\n",
         "hidden": false,
         "locked": false
        }
       ],
       "scored": true,
       "setup": "",
       "teardown": "",
       "type": "doctest"
      }
     ]
    },
    "knn-neighbors": {
     "name": "knn-neighbors",
     "points": null,
     "suites": [
      {
       "cases": [
        {
         "code": ">>> assert X.loc[region,\"NBA\"] < 20 and X.loc[region,\"CFB\"] < 12\n",
         "failure_message": "Try again.",
         "hidden": false,
         "locked": false
        }
       ],
       "scored": true,
       "setup": "",
       "teardown": "",
       "type": "doctest"
      }
     ]
    },
    "knn-norm": {
     "name": "knn-norm",
     "points": null,
     "suites": [
      {
       "cases": [
        {
         "code": ">>> assert 12 < two_norm < 40\n",
         "failure_message": "2-norm value is badly wrong.",
         "hidden": false,
         "locked": false
        },
        {
         "code": ">>> assert 30 < one_norm < 60\n",
         "failure_message": "Something is wrong with the numerical values.",
         "hidden": false,
         "locked": false
        }
       ],
       "scored": true,
       "setup": "",
       "teardown": "",
       "type": "doctest"
      }
     ]
    },
    "knn-standard": {
     "name": "knn-standard",
     "points": null,
     "suites": [
      {
       "cases": [],
       "scored": true,
       "setup": "",
       "teardown": "",
       "type": "doctest"
      }
     ]
    },
    "prelim-convert": {
     "name": "prelim-convert",
     "points": null,
     "suites": [
      {
       "cases": [
        {
         "code": ">>> assert all(fans.dtypes==\"float64\")\n",
         "failure_message": "Entries are not all numerical.",
         "hidden": false,
         "locked": false
        },
        {
         "code": ">>> assert list(fans.sum()) == [ 8093.,  4720.,  2814.,  1054.,  1112.,  985., 1921., 11287.55]\n",
         "failure_message": "Something is wrong with the numerical values.",
         "hidden": false,
         "locked": false
        }
       ],
       "scored": true,
       "setup": "",
       "teardown": "",
       "type": "doctest"
      }
     ]
    },
    "prelim-features": {
     "name": "prelim-features",
     "points": null,
     "suites": [
      {
       "cases": [
        {
         "code": ">>> assert type(X) == pd.DataFrame\n",
         "failure_message": "The feature matrix should have a DataFrame type.",
         "hidden": false,
         "locked": false
        },
        {
         "code": ">>> assert set(X.columns) == {'CBB', 'CFB', 'MLB', 'NASCAR', 'NBA', 'NFL', 'NHL'}\n",
         "failure_message": "The feature matrix has the wrong columns.",
         "hidden": false,
         "locked": false
        },
        {
         "code": ">>> assert X.shape == (207,7)\n",
         "failure_message": "The shape is incorrect.",
         "hidden": false,
         "locked": false
        }
       ],
       "scored": true,
       "setup": "",
       "teardown": "",
       "type": "doctest"
      }
     ]
    },
    "prelim-labels": {
     "name": "prelim-labels",
     "points": null,
     "suites": [
      {
       "cases": [
        {
         "code": ">>> assert y.dtype=='bool'\n",
         "failure_message": "The result should be a series with Boolean values.",
         "hidden": false,
         "locked": false
        },
        {
         "code": ">>> assert sum(y)==138\n",
         "failure_message": "There should be 138 True values.",
         "hidden": false,
         "locked": false
        }
       ],
       "scored": true,
       "setup": "",
       "teardown": "",
       "type": "doctest"
      }
     ]
    },
    "prelim-split": {
     "name": "prelim-split",
     "points": null,
     "suites": [
      {
       "cases": [
        {
         "code": ">>> assert X_train.shape[0]==175 and X_test.shape[0]==32\n",
         "failure_message": "The subset sizes are incorrect.",
         "hidden": false,
         "locked": false
        },
        {
         "code": ">>> assert not all(X.NBA[:10].values == X_train.NBA[:10].values)\n",
         "failure_message": "The ordering was not randomized.",
         "hidden": false,
         "locked": false
        },
        {
         "code": ">>> assert all(np.isclose(X_train.iloc[0,:].values,[41,24,18,10,3,3,3]))\n",
         "failure_message": "Check the random state argument.",
         "hidden": false,
         "locked": false
        }
       ],
       "scored": true,
       "setup": "",
       "teardown": "",
       "type": "doctest"
      }
     ]
    },
    "svm-dist": {
     "name": "svm-dist",
     "points": null,
     "suites": [
      {
       "cases": [
        {
         "code": ">>> assert 4 < dist < 10\n",
         "hidden": false,
         "locked": false
        }
       ],
       "scored": true,
       "setup": "",
       "teardown": "",
       "type": "doctest"
      }
     ]
    },
    "svm-f1": {
     "name": "svm-f1",
     "points": null,
     "suites": [
      {
       "cases": [
        {
         "code": ">>> assert linear > rbf and linear > 0.85 and rbf > 0.8\n",
         "hidden": false,
         "locked": false
        }
       ],
       "scored": true,
       "setup": "",
       "teardown": "",
       "type": "doctest"
      }
     ]
    },
    "svm-f1_standard": {
     "name": "svm-f1_standard",
     "points": null,
     "suites": [
      {
       "cases": [
        {
         "code": ">>> assert rbf_standard > linear_standard and rbf_standard > 0.9 and linear_standard > 0.85\n",
         "hidden": false,
         "locked": false
        }
       ],
       "scored": true,
       "setup": "",
       "teardown": "",
       "type": "doctest"
      }
     ]
    },
    "tree-FP": {
     "name": "tree-FP",
     "points": null,
     "suites": [
      {
       "cases": [],
       "scored": true,
       "setup": "",
       "teardown": "",
       "type": "doctest"
      }
     ]
    },
    "tree-accuracy": {
     "name": "tree-accuracy",
     "points": null,
     "suites": [
      {
       "cases": [
        {
         "code": ">>> assert type(dt)==DecisionTreeClassifier and dt.max_depth==4\n",
         "failure_message": "You must use a decision tree of maximum depth 4.",
         "hidden": false,
         "locked": false
        },
        {
         "code": ">>> assert 0.80 < accuracy < 0.85\n",
         "failure_message": "The accuracy is not in the correct range.",
         "hidden": false,
         "locked": false
        },
        {
         "code": ">>> assert sum(yhat)==140\n",
         "failure_message": "There is an incorrect number of True predictions.",
         "hidden": false,
         "locked": false
        }
       ],
       "scored": true,
       "setup": "",
       "teardown": "",
       "type": "doctest"
      }
     ]
    },
    "tree-importance": {
     "name": "tree-importance",
     "points": null,
     "suites": [
      {
       "cases": [
        {
         "code": ">>> assert league in X.columns\n",
         "failure_message": "The league must be the name of a data column.",
         "hidden": false,
         "locked": false
        },
        {
         "code": ">>> assert 0 <= fraction <= 1\n",
         "failure_message": "The fraction must be a float between 0 and 1.",
         "hidden": false,
         "locked": false
        }
       ],
       "scored": true,
       "setup": "",
       "teardown": "",
       "type": "doctest"
      }
     ]
    },
    "tree-scores": {
     "name": "tree-scores",
     "points": null,
     "suites": [
      {
       "cases": [
        {
         "code": ">>> assert 0.82 < recall < 0.90\n",
         "failure_message": "The recall is not in the correct range.",
         "hidden": false,
         "locked": false
        },
        {
         "code": ">>> assert 0.82 < F1 < 0.90\n",
         "failure_message": "The F1 value is not in the correct range.",
         "hidden": false,
         "locked": false
        }
       ],
       "scored": true,
       "setup": "",
       "teardown": "",
       "type": "doctest"
      }
     ]
    },
    "vaild-kfold": {
     "name": "vaild-kfold",
     "points": null,
     "suites": [
      {
       "cases": [
        {
         "code": ">>> assert all(0.55 < test_score) and all(test_score < 0.84)\n",
         "hidden": false,
         "locked": false
        },
        {
         "code": ">>> assert np.isclose(test_score.mean(),0.6934144072301965)\n",
         "hidden": false,
         "locked": false
        }
       ],
       "scored": true,
       "setup": "",
       "teardown": "",
       "type": "doctest"
      }
     ]
    }
   }
  }
 },
 "nbformat": 4,
 "nbformat_minor": 2
}
