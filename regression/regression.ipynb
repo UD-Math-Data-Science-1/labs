{
 "cells": [
  {
   "cell_type": "code",
   "execution_count": null,
   "id": "d310a186",
   "metadata": {
    "deletable": false,
    "editable": false
   },
   "outputs": [],
   "source": [
    "# Initialize Otter\n",
    "import otter\n",
    "grader = otter.Notebook(\"regression.ipynb\")"
   ]
  },
  {
   "cell_type": "code",
   "execution_count": null,
   "id": "813fef71",
   "metadata": {},
   "outputs": [],
   "source": [
    "import numpy as np\n",
    "import pandas as pd\n",
    "import seaborn as sns\n",
    "SEED = 3383"
   ]
  },
  {
   "cell_type": "markdown",
   "id": "08909b71",
   "metadata": {},
   "source": [
    "## 1. Regression"
   ]
  },
  {
   "cell_type": "markdown",
   "id": "03f32ff0",
   "metadata": {},
   "source": [
    "This dataset contains information on ticket prices for flights between six cities in India:"
   ]
  },
  {
   "cell_type": "code",
   "execution_count": null,
   "id": "b3428183",
   "metadata": {
    "tags": []
   },
   "outputs": [],
   "source": [
    "flights = pd.read_csv(\"flights.csv\",index_col=0)\n",
    "flights.head(5)"
   ]
  },
  {
   "cell_type": "markdown",
   "id": "49a80dba",
   "metadata": {},
   "source": [
    "1.1. Create a boolean vector or series called `trips` that is `True` only for flights with class *Economy*, source city *Delhi*, and destination city *Mumbai*."
   ]
  },
  {
   "cell_type": "code",
   "execution_count": null,
   "id": "67d01eb1",
   "metadata": {
    "tags": []
   },
   "outputs": [],
   "source": [
    "trips = ..."
   ]
  },
  {
   "cell_type": "code",
   "execution_count": null,
   "id": "a381306d",
   "metadata": {
    "deletable": false,
    "editable": false
   },
   "outputs": [],
   "source": [
    "grader.check(\"flights-trips\")"
   ]
  },
  {
   "cell_type": "markdown",
   "id": "c3138462",
   "metadata": {},
   "source": [
    "1.2. Prepare a feature matrix `X` for the rows in `trips` and the columns *departure_time*, *airline*, *duration*, *days_left*, and *stops*. In the *stops* column, replace `\"zero\"` with 0, `\"one\"` with 1, and `\"two_or_more\"` with 2.\n",
    "   \n",
    "Prepare a feature vector `y` for *price* on the same rows."
   ]
  },
  {
   "cell_type": "code",
   "execution_count": null,
   "id": "a90fc6ba",
   "metadata": {
    "tags": []
   },
   "outputs": [],
   "source": [
    "X = ...\n",
    "y = ..."
   ]
  },
  {
   "cell_type": "code",
   "execution_count": null,
   "id": "7eec0c77",
   "metadata": {
    "deletable": false,
    "editable": false
   },
   "outputs": [],
   "source": [
    "grader.check(\"flights-features\")"
   ]
  },
  {
   "cell_type": "markdown",
   "id": "2577e22a",
   "metadata": {},
   "source": [
    "1.3. Perform a linear regression for the price with the predictors *days_left* and *duration*. Find the coefficient of determination for the fit."
   ]
  },
  {
   "cell_type": "code",
   "execution_count": null,
   "id": "3e4bc58a",
   "metadata": {
    "tags": []
   },
   "outputs": [],
   "source": [
    "CofD = ..."
   ]
  },
  {
   "cell_type": "code",
   "execution_count": null,
   "id": "68579beb",
   "metadata": {
    "deletable": false,
    "editable": false
   },
   "outputs": [],
   "source": [
    "grader.check(\"regress-twovars\")"
   ]
  },
  {
   "cell_type": "markdown",
   "id": "aa7cc383",
   "metadata": {},
   "source": [
    "1.4. Does increasing *days_left* cause the price to increase, or decrease? Does increasing *duration* cause the price to increase, or decrease? Answer `True` or `False` for each variable."
   ]
  },
  {
   "cell_type": "code",
   "execution_count": null,
   "id": "259f8032",
   "metadata": {
    "tags": []
   },
   "outputs": [],
   "source": [
    "# True or False in each case\n",
    "increasing_days_left_increases_price = ...\n",
    "increasing_duration_increases_price = ..."
   ]
  },
  {
   "cell_type": "markdown",
   "id": "17071552",
   "metadata": {},
   "source": [
    "1.5. Create a new frame `Xdum` that replaces the *airline* and *departure_time* features with dummy variables. **Use `drop_first=True` for when creating the dummies.** This option replaces a category of $k$ unique values with $k-1$ variables, leaving out redundancy.\n",
    "\n",
    "Then retrain the linear regressor using `Xdum` and compute the new coefficient of determination."
   ]
  },
  {
   "cell_type": "code",
   "execution_count": null,
   "id": "ecc2da66",
   "metadata": {
    "tags": []
   },
   "outputs": [],
   "source": [
    "Xdum = ...\n",
    "CofD_dum = ..."
   ]
  },
  {
   "cell_type": "code",
   "execution_count": null,
   "id": "e017836d",
   "metadata": {
    "deletable": false,
    "editable": false
   },
   "outputs": [],
   "source": [
    "grader.check(\"regress-dummies\")"
   ]
  },
  {
   "cell_type": "markdown",
   "id": "40026a91",
   "metadata": {},
   "source": [
    "1.6. Which airline, when chosen with all else being unchanged, tends to cause the greatest increase in the price? All else being equal, what is the best departure time for lowering the price?"
   ]
  },
  {
   "cell_type": "code",
   "execution_count": null,
   "id": "fc682be0",
   "metadata": {
    "tags": []
   },
   "outputs": [],
   "source": [
    "# Use a string value as the answer:\n",
    "airline_biggest_increase = ...\n",
    "time_biggest_decrease = ..."
   ]
  },
  {
   "cell_type": "code",
   "execution_count": null,
   "id": "3fe95ae8",
   "metadata": {
    "deletable": false,
    "editable": false
   },
   "outputs": [],
   "source": [
    "grader.check(\"regress-effects\")"
   ]
  },
  {
   "cell_type": "markdown",
   "id": "53fc451d",
   "metadata": {},
   "source": [
    "1.7. Use LASSO on the feature matrix with dummies and increase the regularization parameter until one of the coefficients is dropped. Which column corresponds to the dropped coefficient?"
   ]
  },
  {
   "cell_type": "code",
   "execution_count": null,
   "id": "af676fbd",
   "metadata": {
    "tags": []
   },
   "outputs": [],
   "source": [
    "first_dropped = ..."
   ]
  },
  {
   "cell_type": "code",
   "execution_count": null,
   "id": "17642817",
   "metadata": {
    "deletable": false,
    "editable": false
   },
   "outputs": [],
   "source": [
    "grader.check(\"regress-lasso\")"
   ]
  },
  {
   "cell_type": "markdown",
   "id": "3f7f52d4",
   "metadata": {},
   "source": [
    "1.8. Use a decision tree regressor on the feature matrix with dummy variables, and compute its coefficient of determination score. Also, determine which feature is deemed to be most important by the regressor."
   ]
  },
  {
   "cell_type": "code",
   "execution_count": null,
   "id": "eb537af7",
   "metadata": {
    "tags": []
   },
   "outputs": [],
   "source": [
    "CofD_dtr = ...\n",
    "top_feature = ..."
   ]
  },
  {
   "cell_type": "code",
   "execution_count": null,
   "id": "5c4065d5",
   "metadata": {
    "deletable": false,
    "editable": false
   },
   "outputs": [],
   "source": [
    "grader.check(\"flight-dtree\")"
   ]
  },
  {
   "cell_type": "markdown",
   "id": "c0243f91",
   "metadata": {},
   "source": [
    "## 3. Probabilistic classification"
   ]
  },
  {
   "cell_type": "markdown",
   "id": "af48e69e",
   "metadata": {},
   "source": [
    "This dataset contains the results of passenger satisfaction surveys on U.S. airlines."
   ]
  },
  {
   "cell_type": "code",
   "execution_count": null,
   "id": "678c351b",
   "metadata": {},
   "outputs": [],
   "source": [
    "satisfaction = pd.read_csv(\"passenger_satisfaction.csv\",index_col=0).dropna()\n",
    "satisfaction.head(6)"
   ]
  },
  {
   "cell_type": "markdown",
   "id": "1910e258",
   "metadata": {},
   "source": [
    "Some of the columns are features that can be deduced independently of surveys, at least in principle. We will separate the two types of features for the analysis that follows."
   ]
  },
  {
   "cell_type": "code",
   "execution_count": null,
   "id": "e97188f9",
   "metadata": {},
   "outputs": [],
   "source": [
    "objective = ['Gender', 'Customer Type', 'Age', 'Class',\n",
    "        'Flight Distance','Departure Delay in Minutes', 'Arrival Delay in Minutes',]\n",
    "subjective = ['Type of Travel','Inflight wifi service',\n",
    "       'Departure/Arrival time convenient', 'Ease of Online booking',\n",
    "       'Gate location', 'Food and drink', 'Online boarding', 'Seat comfort',\n",
    "       'Inflight entertainment', 'On-board service', 'Leg room service',\n",
    "       'Baggage handling', 'Checkin service', 'Inflight service',\n",
    "       'Cleanliness']\n",
    "target = 'satisfaction'"
   ]
  },
  {
   "cell_type": "markdown",
   "id": "e3ec2e7f",
   "metadata": {},
   "source": [
    "3.1 Create a feature matrix `XO` for just the `objective` features, with dummy variables, again using `drop_first=True`. Also make a label series `y` for the *satisfaction* column. Split off 20% of the data into a test set, using a shuffle with random state `SEED`."
   ]
  },
  {
   "cell_type": "code",
   "execution_count": null,
   "id": "78817d79",
   "metadata": {
    "tags": []
   },
   "outputs": [],
   "source": [
    "XO = ...\n",
    "ys = ...\n",
    "..."
   ]
  },
  {
   "cell_type": "code",
   "execution_count": null,
   "id": "7b451f9b",
   "metadata": {
    "deletable": false,
    "editable": false
   },
   "outputs": [],
   "source": [
    "grader.check(\"satisfy-objective\")"
   ]
  },
  {
   "cell_type": "markdown",
   "id": "15601143",
   "metadata": {},
   "source": [
    "3.2 Using the objective-only training data, perform a logistic regression with the option `penalty=\"none\"`, which disables regularization. Make sure to use a pipeline with column standardization. \n",
    "\n",
    "Using the test set, find the AUC-ROC score of the regression."
   ]
  },
  {
   "cell_type": "code",
   "execution_count": null,
   "id": "039f9abb",
   "metadata": {
    "tags": []
   },
   "outputs": [],
   "source": [
    "lr_obj = ...\n",
    "AUC_obj = ..."
   ]
  },
  {
   "cell_type": "code",
   "execution_count": null,
   "id": "967000e6",
   "metadata": {
    "deletable": false,
    "editable": false
   },
   "outputs": [],
   "source": [
    "grader.check(\"satisfy-objective-logr\")"
   ]
  },
  {
   "cell_type": "markdown",
   "id": "95bd2322",
   "metadata": {},
   "source": [
    "<!-- BEGIN QUESTION -->\n",
    "\n",
    "3.3. Plot the ROC curve of the regressor for detection of the state *satisfied* for **the first 1000 members** of the test set."
   ]
  },
  {
   "cell_type": "code",
   "execution_count": null,
   "id": "b02d67bb",
   "metadata": {
    "tags": []
   },
   "outputs": [],
   "source": []
  },
  {
   "cell_type": "markdown",
   "id": "d00d6f09",
   "metadata": {},
   "source": [
    "<!-- END QUESTION -->\n",
    "\n",
    "3.4 Now use the objective and subjective features together, converting to dummies and splitting into train/test like before. \n",
    "\n",
    "Perform logistic regression with $C=0.01$, `penalty=\"l1\"` (i.e., LASSO), and `solver=\"liblinear\"` (since the default will not work with LASSO). Compute the AUC-ROC score."
   ]
  },
  {
   "cell_type": "code",
   "execution_count": null,
   "id": "63bf14c0",
   "metadata": {
    "tags": []
   },
   "outputs": [],
   "source": [
    "XA = ...\n",
    "...\n",
    "\n",
    "lr_all = ...\n",
    "AUC_all = ..."
   ]
  },
  {
   "cell_type": "code",
   "execution_count": null,
   "id": "2d1e525f",
   "metadata": {
    "deletable": false,
    "editable": false
   },
   "outputs": [],
   "source": [
    "grader.check(\"satisfy-all-auc\")"
   ]
  },
  {
   "cell_type": "markdown",
   "id": "677c47d2",
   "metadata": {},
   "source": [
    "3.5. Use the coefficients of the regression (with all features) to answer the following questions. \n",
    "\n",
    "(a) Which feature or features are dropped by the regularization? (Answer with a **list** of strings.)\n",
    "\n",
    "(b) Which of the subjective features has the greatest positive effect on satisfaction? (Answer with a string.)\n",
    "\n",
    "(c) Which type of travel tends to produce greater satisfaction? (Answer with string `\"Personal\"` or `\"Business\"`.)"
   ]
  },
  {
   "cell_type": "code",
   "execution_count": null,
   "id": "91357d01",
   "metadata": {
    "tags": []
   },
   "outputs": [],
   "source": [
    "dropped_features = ...\n",
    "greatest_subjective = ...\n",
    "satisfying_travel = ..."
   ]
  },
  {
   "cell_type": "code",
   "execution_count": null,
   "id": "727e6e85",
   "metadata": {
    "deletable": false,
    "editable": false
   },
   "outputs": [],
   "source": [
    "grader.check(\"satisfy-all-factors\")"
   ]
  },
  {
   "cell_type": "markdown",
   "id": "bed9891b",
   "metadata": {
    "deletable": false,
    "editable": false
   },
   "source": [
    "---\n",
    "\n",
    "To double-check your work, the cell below will rerun all of the autograder tests."
   ]
  },
  {
   "cell_type": "code",
   "execution_count": null,
   "id": "ebfedaea",
   "metadata": {
    "deletable": false,
    "editable": false
   },
   "outputs": [],
   "source": [
    "grader.check_all()"
   ]
  },
  {
   "cell_type": "markdown",
   "id": "0d30aa70",
   "metadata": {
    "deletable": false,
    "editable": false
   },
   "source": [
    "## Submission\n",
    "\n",
    "Make sure you have run all cells in your notebook in order before running the cell below, so that all images/graphs appear in the output. The cell below will generate a zip file for you to submit.\n",
    "\n",
    "Select *Kernel/Restart & Run All*, then save, then run this export cell again. Submit by pushing the resulting zip file to your GitHub assignment repo."
   ]
  },
  {
   "cell_type": "code",
   "execution_count": null,
   "id": "7d9bfe07",
   "metadata": {
    "deletable": false,
    "editable": false
   },
   "outputs": [],
   "source": [
    "grader.export(pdf=False, force_save=True)"
   ]
  },
  {
   "cell_type": "markdown",
   "id": "f34b192b",
   "metadata": {},
   "source": [
    " "
   ]
  }
 ],
 "metadata": {
  "kernelspec": {
   "display_name": "Python 3 (ipykernel)",
   "language": "python",
   "name": "python3"
  },
  "language_info": {
   "codemirror_mode": {
    "name": "ipython",
    "version": 3
   },
   "file_extension": ".py",
   "mimetype": "text/x-python",
   "name": "python",
   "nbconvert_exporter": "python",
   "pygments_lexer": "ipython3",
   "version": "3.8.8"
  },
  "otter": {
   "tests": {
    "flight-dtree": {
     "name": "flight-dtree",
     "points": null,
     "suites": [
      {
       "cases": [
        {
         "code": ">>> assert 0.7 < CofD_dtr < 0.75\n",
         "failure_message": "Regressor score should be in the interval (0.7,0.75).",
         "hidden": false,
         "locked": false
        },
        {
         "code": ">>> assert top_feature in Xdum.columns\n",
         "failure_message": "Top feature should be a column name in Xdum.",
         "hidden": false,
         "locked": false
        }
       ],
       "scored": true,
       "setup": "",
       "teardown": "",
       "type": "doctest"
      }
     ]
    },
    "flights-features": {
     "name": "flights-features",
     "points": null,
     "suites": [
      {
       "cases": [
        {
         "code": ">>> assert set(X.columns) == {'airline', 'days_left', 'departure_time', 'duration', 'stops'}\n",
         "failure_message": "The feature names are incorrect.",
         "hidden": false,
         "locked": false
        },
        {
         "code": ">>> assert np.isclose(X[\"days_left\"].mean(),25.915948707673813)\n",
         "failure_message": "You do not have the correct feature rows.",
         "hidden": false,
         "locked": false
        },
        {
         "code": ">>> assert np.isclose(X[\"stops\"].mean(),0.7476457623722701)\n",
         "failure_message": "The \"stops\" column is not numeric, or has the wrong values.",
         "hidden": false,
         "locked": false
        },
        {
         "code": ">>> assert np.isclose(y.mean(),6059.826086956522)\n",
         "failure_message": "You do not have the correct label rows.",
         "hidden": false,
         "locked": false
        }
       ],
       "scored": true,
       "setup": "",
       "teardown": "",
       "type": "doctest"
      }
     ]
    },
    "flights-trips": {
     "name": "flights-trips",
     "points": null,
     "suites": [
      {
       "cases": [
        {
         "code": ">>> assert sum(trips)==9982\n",
         "failure_message": "There should be 9982 trips selected.",
         "hidden": false,
         "locked": false
        }
       ],
       "scored": true,
       "setup": "",
       "teardown": "",
       "type": "doctest"
      }
     ]
    },
    "regress-dummies": {
     "name": "regress-dummies",
     "points": null,
     "suites": [
      {
       "cases": [
        {
         "code": ">>> assert CofD_dum > 0.5 and CofD_dum < 0.55\n",
         "failure_message": "The result should be in the range (0.5,0.55).",
         "hidden": false,
         "locked": false
        }
       ],
       "scored": true,
       "setup": "",
       "teardown": "",
       "type": "doctest"
      }
     ]
    },
    "regress-effects": {
     "name": "regress-effects",
     "points": null,
     "suites": [
      {
       "cases": [
        {
         "code": ">>> assert airline_biggest_increase in X[\"airline\"].unique()\n",
         "failure_message": "Your answer must be one of the airlines.",
         "hidden": false,
         "locked": false
        },
        {
         "code": ">>> assert time_biggest_decrease in X[\"departure_time\"].unique()\n",
         "failure_message": "Your answer must be one of the airlines.",
         "hidden": false,
         "locked": false
        }
       ],
       "scored": true,
       "setup": "",
       "teardown": "",
       "type": "doctest"
      }
     ]
    },
    "regress-increase": {
     "name": "regress-increase",
     "points": null,
     "suites": [
      {
       "cases": [],
       "scored": true,
       "setup": "",
       "teardown": "",
       "type": "doctest"
      }
     ]
    },
    "regress-lasso": {
     "name": "regress-lasso",
     "points": null,
     "suites": [
      {
       "cases": [
        {
         "code": ">>> assert first_dropped in Xdum.columns\n",
         "failure_message": "Wrong!!",
         "hidden": false,
         "locked": false
        }
       ],
       "scored": true,
       "setup": "",
       "teardown": "",
       "type": "doctest"
      }
     ]
    },
    "regress-twovars": {
     "name": "regress-twovars",
     "points": null,
     "suites": [
      {
       "cases": [
        {
         "code": ">>> assert CofD > 0.36 and CofD < 0.40\n",
         "failure_message": "Result should be in the range (0.36,0.40).",
         "hidden": false,
         "locked": false
        }
       ],
       "scored": true,
       "setup": "",
       "teardown": "",
       "type": "doctest"
      }
     ]
    },
    "satisfy-all-auc": {
     "name": "satisfy-all-auc",
     "points": null,
     "suites": [
      {
       "cases": [
        {
         "code": ">>> assert 0.9 < AUC_all < 0.93\n",
         "failure_message": "The AUC score should be in the interval (0.9,0.93).",
         "hidden": false,
         "locked": false
        },
        {
         "code": ">>> assert len(XA.columns) == 23\n",
         "failure_message": "The columns of the XA feature matrix are incorrect.",
         "hidden": false,
         "locked": false
        }
       ],
       "scored": true,
       "setup": "",
       "teardown": "",
       "type": "doctest"
      }
     ]
    },
    "satisfy-all-factors": {
     "name": "satisfy-all-factors",
     "points": null,
     "suites": [
      {
       "cases": [
        {
         "code": ">>> assert type(dropped_features)==list and set(dropped_features).difference(set(XA.columns)) == set()\n",
         "failure_message": "Answer (a) with a list of strings from the full column name set.",
         "hidden": false,
         "locked": false
        },
        {
         "code": ">>> assert type(greatest_subjective)==str and greatest_subjective in subjective\n",
         "failure_message": "Answer (b) with a string from the objective column names.",
         "hidden": false,
         "locked": false
        },
        {
         "code": ">>> assert satisfying_travel in [\"Personal\",\"Business\"]\n",
         "failure_message": "Answer (ac with either \"Personal\" or \"Business\".",
         "hidden": false,
         "locked": false
        }
       ],
       "scored": true,
       "setup": "",
       "teardown": "",
       "type": "doctest"
      }
     ]
    },
    "satisfy-objective": {
     "name": "satisfy-objective",
     "points": null,
     "suites": [
      {
       "cases": [
        {
         "code": ">>> assert set(XO.columns) == set(['Age', 'Flight Distance', 'Departure Delay in Minutes',\n...        'Arrival Delay in Minutes', 'Gender_Male',\n...        'Customer Type_disloyal Customer', 'Class_Eco', 'Class_Eco Plus'])\n",
         "failure_message": "Your feature matrix does not have the right columns.",
         "hidden": false,
         "locked": false
        },
        {
         "code": ">>> assert len(ys)==129487 and sum(ys==\"satisfied\")==56262\n",
         "failure_message": "Something is wrong with the label vector.",
         "hidden": false,
         "locked": false
        },
        {
         "code": ">>> assert np.isclose(XO_train[\"Age\"].mean(),39.43230458832502)\n",
         "failure_message": "Something is wrong with the training matrix.",
         "hidden": false,
         "locked": false
        }
       ],
       "scored": true,
       "setup": "",
       "teardown": "",
       "type": "doctest"
      }
     ]
    },
    "satisfy-objective-logr": {
     "name": "satisfy-objective-logr",
     "points": null,
     "suites": [
      {
       "cases": [
        {
         "code": ">>> assert 0.78 < AUC_obj < 0.80\n",
         "failure_message": "AUC score should be in the interval (0.78,0.80).",
         "hidden": false,
         "locked": false
        }
       ],
       "scored": true,
       "setup": "",
       "teardown": "",
       "type": "doctest"
      }
     ]
    }
   }
  }
 },
 "nbformat": 4,
 "nbformat_minor": 5
}
