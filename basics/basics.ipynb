{
 "cells": [
  {
   "cell_type": "code",
   "execution_count": null,
   "metadata": {
    "deletable": false,
    "editable": false
   },
   "outputs": [],
   "source": [
    "# Initialize Otter\n",
    "import otter\n",
    "grader = otter.Notebook(\"basics.ipynb\")"
   ]
  },
  {
   "cell_type": "markdown",
   "metadata": {},
   "source": [
    "If you want to run the solution checker, and you have never installed the grader package, uncomment and run the cell below. (It won't hurt to run if you have installed before.)"
   ]
  },
  {
   "cell_type": "code",
   "execution_count": null,
   "metadata": {},
   "outputs": [],
   "source": [
    "#! pip install otter-grader"
   ]
  },
  {
   "cell_type": "code",
   "execution_count": null,
   "metadata": {},
   "outputs": [],
   "source": [
    "import pandas as pd\n",
    "import numpy as np\n",
    "import seaborn as sns"
   ]
  },
  {
   "cell_type": "markdown",
   "metadata": {},
   "source": [
    "Take note that **passing the grader checks does not mean that your answer is correct!** The grader performs some tests to catch significant problems, but does not validate against the true solutions."
   ]
  },
  {
   "cell_type": "markdown",
   "metadata": {},
   "source": [
    "## Enter the matrix"
   ]
  },
  {
   "cell_type": "markdown",
   "metadata": {},
   "source": [
    "**1.** Create a vector of the first 8 prime numbers."
   ]
  },
  {
   "cell_type": "code",
   "execution_count": null,
   "metadata": {
    "tags": []
   },
   "outputs": [],
   "source": [
    "primes = ..."
   ]
  },
  {
   "cell_type": "code",
   "execution_count": null,
   "metadata": {
    "deletable": false,
    "editable": false
   },
   "outputs": [],
   "source": [
    "grader.check(\"vector-primes\")"
   ]
  },
  {
   "cell_type": "markdown",
   "metadata": {},
   "source": [
    "**2.** Create the vector [1, 4, 9, 16, …, 1521, 1600]. "
   ]
  },
  {
   "cell_type": "code",
   "execution_count": null,
   "metadata": {
    "tags": []
   },
   "outputs": [],
   "source": [
    "squares = ..."
   ]
  },
  {
   "cell_type": "code",
   "execution_count": null,
   "metadata": {
    "deletable": false,
    "editable": false
   },
   "outputs": [],
   "source": [
    "grader.check(\"vector-squares\")"
   ]
  },
  {
   "cell_type": "markdown",
   "metadata": {},
   "source": [
    "**3.** Create a matrix with 4 rows and 2 columns, with all entries equal to 2.5."
   ]
  },
  {
   "cell_type": "code",
   "execution_count": null,
   "metadata": {
    "tags": []
   },
   "outputs": [],
   "source": [
    "C = ..."
   ]
  },
  {
   "cell_type": "code",
   "execution_count": null,
   "metadata": {
    "deletable": false,
    "editable": false
   },
   "outputs": [],
   "source": [
    "grader.check(\"matrix-constant\")"
   ]
  },
  {
   "cell_type": "markdown",
   "metadata": {},
   "source": [
    "**4.** Write a function that accepts a matrix as input and returns the matrix that results from subtracting within every column the maximum value in that column."
   ]
  },
  {
   "cell_type": "code",
   "execution_count": null,
   "metadata": {
    "tags": []
   },
   "outputs": [],
   "source": [
    "def subtract_max(A):\n",
    "    ..."
   ]
  },
  {
   "cell_type": "code",
   "execution_count": null,
   "metadata": {
    "deletable": false,
    "editable": false
   },
   "outputs": [],
   "source": [
    "grader.check(\"matrix-subtract\")"
   ]
  },
  {
   "cell_type": "markdown",
   "metadata": {},
   "source": [
    "## School daze"
   ]
  },
  {
   "cell_type": "markdown",
   "metadata": {},
   "source": [
    "**1.** Create a series called `schools`, that has series name `\"School\"` and the values `\"Delaware\"`, `\"Penn\"`, `\"Drexel\"`, and `\"Villanova\"`."
   ]
  },
  {
   "cell_type": "code",
   "execution_count": null,
   "metadata": {
    "tags": []
   },
   "outputs": [],
   "source": [
    "schools = ..."
   ]
  },
  {
   "cell_type": "code",
   "execution_count": null,
   "metadata": {
    "deletable": false,
    "editable": false
   },
   "outputs": [],
   "source": [
    "grader.check(\"school-series\")"
   ]
  },
  {
   "cell_type": "markdown",
   "metadata": {},
   "source": [
    "**2.** Make a data frame called `uni` that looks like this:\n",
    "\n",
    "![data frame](df_snapshot.png)\n",
    "\n",
    "Note: The years should be of `int64` data type."
   ]
  },
  {
   "cell_type": "code",
   "execution_count": null,
   "metadata": {
    "tags": []
   },
   "outputs": [],
   "source": [
    "uni = ..."
   ]
  },
  {
   "cell_type": "code",
   "execution_count": null,
   "metadata": {
    "deletable": false,
    "editable": false
   },
   "outputs": [],
   "source": [
    "grader.check(\"school-df\")"
   ]
  },
  {
   "cell_type": "markdown",
   "metadata": {},
   "source": [
    "## Fight, fight, fight!"
   ]
  },
  {
   "cell_type": "markdown",
   "metadata": {},
   "source": [
    "<!-- BEGIN QUESTION -->\n",
    "\n",
    "**1.** Load the `fight-songs.csv` file as a data frame called `songs`. Display the first 5 rows."
   ]
  },
  {
   "cell_type": "code",
   "execution_count": null,
   "metadata": {
    "tags": []
   },
   "outputs": [],
   "source": [
    "songs = ...\n",
    "..."
   ]
  },
  {
   "cell_type": "markdown",
   "metadata": {},
   "source": [
    "<!-- END QUESTION -->\n",
    "\n",
    "**2.** Select the *song_name* column and assign it to a variable called `names`. Define a series called `subset` having the 10th through 18th values of `names`."
   ]
  },
  {
   "cell_type": "code",
   "execution_count": null,
   "metadata": {
    "tags": []
   },
   "outputs": [],
   "source": [
    "names = ...\n",
    "subset = ..."
   ]
  },
  {
   "cell_type": "code",
   "execution_count": null,
   "metadata": {
    "deletable": false,
    "editable": false
   },
   "outputs": [],
   "source": [
    "grader.check(\"fight-names\")"
   ]
  },
  {
   "cell_type": "markdown",
   "metadata": {},
   "source": [
    "**3.** What is the maximum value in the *trope_count* column?"
   ]
  },
  {
   "cell_type": "code",
   "execution_count": null,
   "metadata": {
    "tags": []
   },
   "outputs": [],
   "source": [
    "max_tropes = ..."
   ]
  },
  {
   "cell_type": "markdown",
   "metadata": {},
   "source": [
    "**4.** Select from `songs` only the rows having an index value divisible by 10, and only the columns *year* and *official_song*. "
   ]
  },
  {
   "cell_type": "code",
   "execution_count": null,
   "metadata": {
    "tags": []
   },
   "outputs": [],
   "source": [
    "selection = ..."
   ]
  },
  {
   "cell_type": "code",
   "execution_count": null,
   "metadata": {
    "deletable": false,
    "editable": false
   },
   "outputs": [],
   "source": [
    "grader.check(\"fight-select\")"
   ]
  },
  {
   "cell_type": "markdown",
   "metadata": {},
   "source": [
    "**5.** Create a series showing the number of rows in `songs` belonging to each conference."
   ]
  },
  {
   "cell_type": "code",
   "execution_count": null,
   "metadata": {
    "tags": []
   },
   "outputs": [],
   "source": [
    "num_conf = ..."
   ]
  },
  {
   "cell_type": "code",
   "execution_count": null,
   "metadata": {
    "deletable": false,
    "editable": false
   },
   "outputs": [],
   "source": [
    "grader.check(\"fight-numconf\")"
   ]
  },
  {
   "cell_type": "markdown",
   "metadata": {},
   "source": [
    "**6.** Make a data frame selecting all the songs written in 1915."
   ]
  },
  {
   "cell_type": "code",
   "execution_count": null,
   "metadata": {
    "tags": []
   },
   "outputs": [],
   "source": [
    "songs1915 = ..."
   ]
  },
  {
   "cell_type": "code",
   "execution_count": null,
   "metadata": {
    "deletable": false,
    "editable": false
   },
   "outputs": [],
   "source": [
    "grader.check(\"fight-1915\")"
   ]
  },
  {
   "cell_type": "markdown",
   "metadata": {},
   "source": [
    "**7.** How many of the fight songs last less than one minute?"
   ]
  },
  {
   "cell_type": "code",
   "execution_count": null,
   "metadata": {
    "tags": []
   },
   "outputs": [],
   "source": [
    "num_short = ..."
   ]
  },
  {
   "cell_type": "markdown",
   "metadata": {},
   "source": [
    "<!-- BEGIN QUESTION -->\n",
    "\n",
    "**8.** Plot the distribution of *sec_duration* as a histogram over 12 bins."
   ]
  },
  {
   "cell_type": "code",
   "execution_count": null,
   "metadata": {
    "tags": []
   },
   "outputs": [],
   "source": [
    "..."
   ]
  },
  {
   "cell_type": "markdown",
   "metadata": {},
   "source": [
    "<!-- END QUESTION -->\n",
    "\n",
    "<!-- BEGIN QUESTION -->\n",
    "\n",
    "**9.** Plot histograms of *bpm*, separated into columns by the value of *student_writer*."
   ]
  },
  {
   "cell_type": "code",
   "execution_count": null,
   "metadata": {
    "tags": []
   },
   "outputs": [],
   "source": [
    "..."
   ]
  },
  {
   "cell_type": "markdown",
   "metadata": {},
   "source": [
    "<!-- END QUESTION -->\n",
    "\n",
    "<!-- BEGIN QUESTION -->\n",
    "\n",
    "**10.** Make a violin plot showing the distribution of *bpm* for each *conference*."
   ]
  },
  {
   "cell_type": "code",
   "execution_count": null,
   "metadata": {
    "tags": []
   },
   "outputs": [],
   "source": [
    "..."
   ]
  },
  {
   "cell_type": "markdown",
   "metadata": {},
   "source": [
    "<!-- END QUESTION -->\n",
    "\n",
    "**11.** Create a new data frame that replaces in `songs` all instances of `\"Yes\"` with `True` and all instances of `\"No\"` with `False`."
   ]
  },
  {
   "cell_type": "code",
   "execution_count": null,
   "metadata": {
    "tags": []
   },
   "outputs": [],
   "source": [
    "songsTF = ..."
   ]
  },
  {
   "cell_type": "code",
   "execution_count": null,
   "metadata": {
    "deletable": false,
    "editable": false
   },
   "outputs": [],
   "source": [
    "grader.check(\"fight-replace\")"
   ]
  },
  {
   "cell_type": "markdown",
   "metadata": {
    "deletable": false,
    "editable": false
   },
   "source": [
    "---\n",
    "\n",
    "To double-check your work, the cell below will rerun all of the autograder tests."
   ]
  },
  {
   "cell_type": "code",
   "execution_count": null,
   "metadata": {
    "deletable": false,
    "editable": false
   },
   "outputs": [],
   "source": [
    "grader.check_all()"
   ]
  },
  {
   "cell_type": "markdown",
   "metadata": {
    "deletable": false,
    "editable": false
   },
   "source": [
    "## Submission\n",
    "\n",
    "Make sure you have run all cells in your notebook in order before running the cell below, so that all images/graphs appear in the output. The cell below will generate a zip file for you to submit.\n",
    "\n",
    "Select *Kernel/Restart & Run All*, then save, then run this export cell again. Submit by pushing the resulting zip file to your GitHub assignment repo."
   ]
  },
  {
   "cell_type": "code",
   "execution_count": null,
   "metadata": {
    "deletable": false,
    "editable": false
   },
   "outputs": [],
   "source": [
    "grader.export(pdf=False, force_save=True)"
   ]
  },
  {
   "cell_type": "markdown",
   "metadata": {},
   "source": [
    " "
   ]
  }
 ],
 "metadata": {
  "interpreter": {
   "hash": "0cf6273b2f0cea9a779bc7d280535c5e5f4a806bee5f7a87ff212d1397aee730"
  },
  "kernelspec": {
   "display_name": "Python 3.8.12 64-bit ('datasci1': conda)",
   "language": "python",
   "name": "python3"
  },
  "language_info": {
   "codemirror_mode": {
    "name": "ipython",
    "version": 3
   },
   "file_extension": ".py",
   "mimetype": "text/x-python",
   "name": "python",
   "nbconvert_exporter": "python",
   "pygments_lexer": "ipython3",
   "version": "3.8.12"
  },
  "otter": {
   "tests": {
    "fight-1915": {
     "name": "fight-1915",
     "points": null,
     "suites": [
      {
       "cases": [
        {
         "code": ">>> songs1915.shape == (4,23)\nTrue",
         "failure_message": "The value does not have the correct shape.",
         "hidden": false,
         "locked": false
        },
        {
         "code": ">>> set(songs1915.year) == {\"1915\"}\nTrue",
         "failure_message": "The year column is not always correct.",
         "hidden": false,
         "locked": false
        }
       ],
       "scored": true,
       "setup": "",
       "teardown": "",
       "type": "doctest"
      }
     ]
    },
    "fight-60sec": {
     "name": "fight-60sec",
     "points": null,
     "suites": [
      {
       "cases": [],
       "scored": true,
       "setup": "",
       "teardown": "",
       "type": "doctest"
      }
     ]
    },
    "fight-max": {
     "name": "fight-max",
     "points": null,
     "suites": [
      {
       "cases": [],
       "scored": true,
       "setup": "",
       "teardown": "",
       "type": "doctest"
      }
     ]
    },
    "fight-names": {
     "name": "fight-names",
     "points": null,
     "suites": [
      {
       "cases": [
        {
         "code": ">>> type(names) == pd.Series\nTrue",
         "failure_message": "names is not of type Series.",
         "hidden": false,
         "locked": false
        },
        {
         "code": ">>> len(names) == 65\nTrue",
         "failure_message": "names has the wrong length.",
         "hidden": false,
         "locked": false
        },
        {
         "code": ">>> type(subset) == pd.Series\nTrue",
         "failure_message": "subset is not of type Series.",
         "hidden": false,
         "locked": false
        },
        {
         "code": ">>> len(subset) == 9\nTrue",
         "failure_message": "subset has the wrong length.",
         "hidden": false,
         "locked": false
        },
        {
         "code": ">>> subset.values\narray(['Fight, Raiders, Fight', 'Hail West Virginia', 'Oskee-Wow-Wow',\n       'Indiana, Our Indiana', 'Iowa Fight Song', 'Maryland Fight Song',\n       'The Victors', 'Victory for MSU', 'The Minnesota Rouser'],\n      dtype=object)",
         "hidden": false,
         "locked": false
        }
       ],
       "scored": true,
       "setup": "",
       "teardown": "",
       "type": "doctest"
      }
     ]
    },
    "fight-numconf": {
     "name": "fight-numconf",
     "points": null,
     "suites": [
      {
       "cases": [
        {
         "code": ">>> type(num_conf) == pd.Series\nTrue",
         "failure_message": "The value is not of type Series.",
         "hidden": false,
         "locked": false
        },
        {
         "code": ">>> len(num_conf) == 6\nTrue",
         "failure_message": "The value has the wrong length.",
         "hidden": false,
         "locked": false
        },
        {
         "code": ">>> num_conf.name == \"conference\"\nTrue",
         "failure_message": "The Series name property is incorrect.",
         "hidden": false,
         "locked": false
        }
       ],
       "scored": true,
       "setup": "",
       "teardown": "",
       "type": "doctest"
      }
     ]
    },
    "fight-replace": {
     "name": "fight-replace",
     "points": null,
     "suites": [
      {
       "cases": [
        {
         "code": ">>> songs.shape == (65,23)\nTrue",
         "failure_message": "The value does not have the correct shape.",
         "hidden": false,
         "locked": false
        },
        {
         "code": ">>> songsTF.nonsense.dtype == \"bool\"\nTrue",
         "failure_message": "Some values were not converted to True/False.",
         "hidden": false,
         "locked": false
        }
       ],
       "scored": true,
       "setup": "",
       "teardown": "",
       "type": "doctest"
      }
     ]
    },
    "fight-select": {
     "name": "fight-select",
     "points": null,
     "suites": [
      {
       "cases": [
        {
         "code": ">>> np.all(selection.index%10 == 0)\nTrue",
         "failure_message": "Not all row indices are divisible by 10.",
         "hidden": false,
         "locked": false
        },
        {
         "code": ">>> len(selection) == 1 + len(songs)//10\nTrue",
         "failure_message": "Result has the wrong length.",
         "hidden": false,
         "locked": false
        },
        {
         "code": ">>> list(selection.columns) == [\"year\",\"official_song\"]\nTrue",
         "failure_message": "The frame's columns are incorrect.",
         "hidden": false,
         "locked": false
        }
       ],
       "scored": true,
       "setup": "",
       "teardown": "",
       "type": "doctest"
      }
     ]
    },
    "matrix-constant": {
     "name": "matrix-constant",
     "points": null,
     "suites": [
      {
       "cases": [
        {
         "code": ">>> type(C) == np.ndarray\nTrue",
         "failure_message": "The value is not of array type.",
         "hidden": false,
         "locked": false
        },
        {
         "code": ">>> assert C.shape == (4,2)\n",
         "failure_message": "The value does not have the correct shape.",
         "hidden": false,
         "locked": false
        }
       ],
       "scored": true,
       "setup": "",
       "teardown": "",
       "type": "doctest"
      }
     ]
    },
    "matrix-subtract": {
     "name": "matrix-subtract",
     "points": null,
     "suites": [
      {
       "cases": [
        {
         "code": ">>> testmat = np.array([[1,3,4],[5,0,2]])\n>>> np.all( np.isclose(subtract_max(testmat),np.array([[-4,0,0],[0,-3,-2]]) ) )\nTrue",
         "failure_message": "Incorrect result.",
         "hidden": false,
         "locked": false
        }
       ],
       "scored": true,
       "setup": "",
       "teardown": "",
       "type": "doctest"
      }
     ]
    },
    "school-df": {
     "name": "school-df",
     "points": null,
     "suites": [
      {
       "cases": [
        {
         "code": ">>> type(uni) == pd.DataFrame\nTrue",
         "failure_message": "The value is not a DataFrame.",
         "hidden": false,
         "locked": false
        },
        {
         "code": ">>> list(uni.columns) == ['Founded', 'Mascot']\nTrue",
         "failure_message": "The frame does not have the correct column names.",
         "hidden": false,
         "locked": false
        }
       ],
       "scored": true,
       "setup": "",
       "teardown": "",
       "type": "doctest"
      }
     ]
    },
    "school-series": {
     "name": "school-series",
     "points": null,
     "suites": [
      {
       "cases": [
        {
         "code": ">>> type(schools) == pd.Series\nTrue",
         "failure_message": "The value is not of type Series.",
         "hidden": false,
         "locked": false
        },
        {
         "code": ">>> schools.name == \"School\"\nTrue",
         "failure_message": "The Series name property is not correct.",
         "hidden": false,
         "locked": false
        },
        {
         "code": ">>> np.all(schools.values == [\"Delaware\",\"Penn\",\"Drexel\",\"Villanova\"])\nTrue",
         "failure_message": "The Series does not have correct values.",
         "hidden": false,
         "locked": false
        }
       ],
       "scored": true,
       "setup": "",
       "teardown": "",
       "type": "doctest"
      }
     ]
    },
    "vector-primes": {
     "name": "vector-primes",
     "points": null,
     "suites": [
      {
       "cases": [
        {
         "code": ">>> type(primes) == np.ndarray\nTrue",
         "failure_message": "The value is not of array type.",
         "hidden": false,
         "locked": false
        },
        {
         "code": ">>> assert primes.shape == (8,)\n",
         "failure_message": "The value does not have the correct shape.",
         "hidden": false,
         "locked": false
        }
       ],
       "scored": true,
       "setup": "",
       "teardown": "",
       "type": "doctest"
      }
     ]
    },
    "vector-squares": {
     "name": "vector-squares",
     "points": null,
     "suites": [
      {
       "cases": [
        {
         "code": ">>> type(squares) == np.ndarray\nTrue",
         "failure_message": "The value is not of array type.",
         "hidden": false,
         "locked": false
        },
        {
         "code": ">>> assert squares.shape == (40,)\n",
         "failure_message": "The value does not have the correct shape.",
         "hidden": false,
         "locked": false
        }
       ],
       "scored": true,
       "setup": "",
       "teardown": "",
       "type": "doctest"
      }
     ]
    }
   }
  }
 },
 "nbformat": 4,
 "nbformat_minor": 2
}
