{
 "cells": [
  {
   "cell_type": "code",
   "execution_count": null,
   "metadata": {
    "deletable": false,
    "editable": false
   },
   "outputs": [],
   "source": [
    "# Initialize Otter\n",
    "import otter\n",
    "grader = otter.Notebook(\"stats.ipynb\")"
   ]
  },
  {
   "cell_type": "code",
   "execution_count": null,
   "metadata": {},
   "outputs": [],
   "source": [
    "import numpy as np\n",
    "import pandas as pd\n",
    "import seaborn as sns"
   ]
  },
  {
   "cell_type": "markdown",
   "metadata": {},
   "source": [
    "**Important note** Unless the instruction says otherwise, it's OK if your series or data frame results have additional rows/columns not requested, as long as the required information is shown."
   ]
  },
  {
   "cell_type": "markdown",
   "metadata": {},
   "source": [
    "## Waterfowl surveys\n"
   ]
  },
  {
   "cell_type": "markdown",
   "metadata": {},
   "source": [
    "**1.** Load the dataset `Aerial_Waterfowl_Survey_Data.csv` as a data frame called `birds`. (This dataset shows counts of various species of waterfowl observed during aerial surveys.)"
   ]
  },
  {
   "cell_type": "code",
   "execution_count": null,
   "metadata": {
    "tags": []
   },
   "outputs": [],
   "source": [
    "birds = ..."
   ]
  },
  {
   "cell_type": "code",
   "execution_count": null,
   "metadata": {
    "deletable": false,
    "editable": false
   },
   "outputs": [],
   "source": [
    "grader.check(\"birds-load\")"
   ]
  },
  {
   "cell_type": "markdown",
   "metadata": {},
   "source": [
    "**2.** Create a series for the total number of birds observed in Zone 3 for each species. "
   ]
  },
  {
   "cell_type": "code",
   "execution_count": null,
   "metadata": {
    "tags": []
   },
   "outputs": [],
   "source": [
    "zone3 = ..."
   ]
  },
  {
   "cell_type": "code",
   "execution_count": null,
   "metadata": {
    "deletable": false,
    "editable": false
   },
   "outputs": [],
   "source": [
    "grader.check(\"birds-zone3\")"
   ]
  },
  {
   "cell_type": "markdown",
   "metadata": {},
   "source": [
    "**3.** Make a series of the total number of Canada geese observed in each zone."
   ]
  },
  {
   "cell_type": "code",
   "execution_count": null,
   "metadata": {
    "tags": []
   },
   "outputs": [],
   "source": [
    "canada = ..."
   ]
  },
  {
   "cell_type": "code",
   "execution_count": null,
   "metadata": {
    "deletable": false,
    "editable": false
   },
   "outputs": [],
   "source": [
    "grader.check(\"birds-canada\")"
   ]
  },
  {
   "cell_type": "markdown",
   "metadata": {},
   "source": [
    "<!-- BEGIN QUESTION -->\n",
    "\n",
    "**4.** Make a box plot, grouped by month, of the Mallard counts."
   ]
  },
  {
   "cell_type": "code",
   "execution_count": null,
   "metadata": {
    "tags": []
   },
   "outputs": [],
   "source": [
    "...\n"
   ]
  },
  {
   "cell_type": "markdown",
   "metadata": {},
   "source": [
    "<!-- END QUESTION -->\n",
    "\n",
    "**5.** Count the total number of outliers for December in the previous plot."
   ]
  },
  {
   "cell_type": "code",
   "execution_count": null,
   "metadata": {
    "tags": []
   },
   "outputs": [],
   "source": [
    "outliersDec = ..."
   ]
  },
  {
   "cell_type": "markdown",
   "metadata": {},
   "source": [
    "<!-- BEGIN QUESTION -->\n",
    "\n",
    "**6.** Make a data frame for just the species American black duck, Mallard, Wood duck, and Ring-necked duck. Create a grid of pairwise scatter plots for the duck counts."
   ]
  },
  {
   "cell_type": "code",
   "execution_count": null,
   "metadata": {
    "tags": []
   },
   "outputs": [],
   "source": [
    "ducks = ...\n",
    "..."
   ]
  },
  {
   "cell_type": "markdown",
   "metadata": {},
   "source": [
    "<!-- END QUESTION -->\n",
    "\n",
    "**7.** Make a frame of the Pearson correlation coefficients between all pairings of the four duck species."
   ]
  },
  {
   "cell_type": "code",
   "execution_count": null,
   "metadata": {
    "tags": []
   },
   "outputs": [],
   "source": [
    "duckduck = ..."
   ]
  },
  {
   "cell_type": "code",
   "execution_count": null,
   "metadata": {
    "deletable": false,
    "editable": false
   },
   "outputs": [],
   "source": [
    "grader.check(\"birds-pearson\")"
   ]
  },
  {
   "cell_type": "markdown",
   "metadata": {},
   "source": [
    "**8.** Repeat the previous question, but using Spearman coefficients. "
   ]
  },
  {
   "cell_type": "code",
   "execution_count": null,
   "metadata": {
    "tags": []
   },
   "outputs": [],
   "source": [
    "duckspear = ..."
   ]
  },
  {
   "cell_type": "code",
   "execution_count": null,
   "metadata": {
    "deletable": false,
    "editable": false
   },
   "outputs": [],
   "source": [
    "grader.check(\"birds-spearman\")"
   ]
  },
  {
   "cell_type": "markdown",
   "metadata": {},
   "source": [
    "## Restaurant inspections\n"
   ]
  },
  {
   "cell_type": "markdown",
   "metadata": {},
   "source": [
    "\n",
    "**1.** Load the dataset `Restaurant_Inspection_Violations.csv` as a data frame. (This dataset has the results of recent restaurant inspections in Delaware.)"
   ]
  },
  {
   "cell_type": "code",
   "execution_count": null,
   "metadata": {
    "tags": []
   },
   "outputs": [],
   "source": [
    "inspects = ..."
   ]
  },
  {
   "cell_type": "code",
   "execution_count": null,
   "metadata": {
    "deletable": false,
    "editable": false
   },
   "outputs": [],
   "source": [
    "grader.check(\"inspect-load\")"
   ]
  },
  {
   "cell_type": "markdown",
   "metadata": {},
   "source": [
    "**2.** A `NaN` value in the `Violation Code` column seemingly indicates that no violation was found. In what percentage of the inspections is there a non-null code?"
   ]
  },
  {
   "cell_type": "code",
   "execution_count": null,
   "metadata": {
    "tags": []
   },
   "outputs": [],
   "source": [
    "violation_pct = ..."
   ]
  },
  {
   "cell_type": "markdown",
   "metadata": {},
   "source": [
    "**3.** Tabulate (i.e., create a series) by city the percentage of inspections that have a violation. "
   ]
  },
  {
   "cell_type": "code",
   "execution_count": null,
   "metadata": {
    "tags": []
   },
   "outputs": [],
   "source": [
    "violation_bycity = ..."
   ]
  },
  {
   "cell_type": "code",
   "execution_count": null,
   "metadata": {
    "deletable": false,
    "editable": false
   },
   "outputs": [],
   "source": [
    "grader.check(\"inspect-bycity\")"
   ]
  },
  {
   "cell_type": "markdown",
   "metadata": {},
   "source": [
    "## Births\n"
   ]
  },
  {
   "cell_type": "markdown",
   "metadata": {},
   "source": [
    "\n",
    "**1.** Load the dataset `Births.csv` as a data frame. (This dataset describes all live births in Delaware over several years.)"
   ]
  },
  {
   "cell_type": "code",
   "execution_count": null,
   "metadata": {
    "tags": []
   },
   "outputs": [],
   "source": [
    "births = ..."
   ]
  },
  {
   "cell_type": "code",
   "execution_count": null,
   "metadata": {
    "deletable": false,
    "editable": false
   },
   "outputs": [],
   "source": [
    "grader.check(\"births-load\")"
   ]
  },
  {
   "cell_type": "markdown",
   "metadata": {},
   "source": [
    "<!-- BEGIN QUESTION -->\n",
    "\n",
    "**2.** Make a stacked histogram plot showing the distribution of birth weights, separated into columns according to the mother's marital status, and using color to show the gender."
   ]
  },
  {
   "cell_type": "code",
   "execution_count": null,
   "metadata": {
    "tags": []
   },
   "outputs": [],
   "source": [
    "...\n"
   ]
  },
  {
   "cell_type": "markdown",
   "metadata": {},
   "source": [
    "<!-- END QUESTION -->\n",
    "\n",
    "<!-- BEGIN QUESTION -->\n",
    "\n",
    "**3.** Are there strong correlations between the birth weight and gestation time? To explore this question, extend the frame with dummy variables for `BIRTH WEIGHT` and `GESTATION`, and then compute pairwise correlation coefficients. Briefly interpret the results, and note whether the findings are as expected or surprising."
   ]
  },
  {
   "cell_type": "code",
   "execution_count": null,
   "metadata": {
    "tags": []
   },
   "outputs": [],
   "source": []
  },
  {
   "cell_type": "markdown",
   "metadata": {},
   "source": [
    "<!-- END QUESTION -->\n",
    "\n",
    "## Green energy rebates\n"
   ]
  },
  {
   "cell_type": "markdown",
   "metadata": {},
   "source": [
    "Here we are loading the dataset `Green_Energy_Program_Grants.csv` as a frame called `grants`. "
   ]
  },
  {
   "cell_type": "code",
   "execution_count": null,
   "metadata": {},
   "outputs": [],
   "source": [
    "grants = pd.read_csv(\"Green_Energy_Program_Grants.csv\")"
   ]
  },
  {
   "cell_type": "markdown",
   "metadata": {},
   "source": [
    "\n",
    "There is some sloppiness in the *Sector* column, because some values are capitalized while others are not. \n"
   ]
  },
  {
   "cell_type": "code",
   "execution_count": null,
   "metadata": {},
   "outputs": [],
   "source": [
    "grants[\"Sector\"].unique()"
   ]
  },
  {
   "cell_type": "markdown",
   "metadata": {},
   "source": [
    "**1.** Replace the original frame by one where the lowercase forms are replaced by the capitalized forms."
   ]
  },
  {
   "cell_type": "code",
   "execution_count": null,
   "metadata": {
    "tags": []
   },
   "outputs": [],
   "source": [
    "grants = ..."
   ]
  },
  {
   "cell_type": "code",
   "execution_count": null,
   "metadata": {
    "deletable": false,
    "editable": false
   },
   "outputs": [],
   "source": [
    "grader.check(\"grants-load\")"
   ]
  },
  {
   "cell_type": "markdown",
   "metadata": {},
   "source": [
    "**2.** Add a column called *percent* to the frame for the percentage of the total cost that was rebated. Create a series that includes its mean, standard deviation, and quartile values."
   ]
  },
  {
   "cell_type": "code",
   "execution_count": null,
   "metadata": {
    "tags": []
   },
   "outputs": [],
   "source": [
    "...\n",
    "stats = ..."
   ]
  },
  {
   "cell_type": "code",
   "execution_count": null,
   "metadata": {
    "deletable": false,
    "editable": false
   },
   "outputs": [],
   "source": [
    "grader.check(\"grants-capital\")"
   ]
  },
  {
   "cell_type": "markdown",
   "metadata": {},
   "source": [
    "**3.** Find the Spearman correlation coefficient between total system costs and total rebate. The result should just be a single number (e.g., no self-correlations)."
   ]
  },
  {
   "cell_type": "code",
   "execution_count": null,
   "metadata": {
    "tags": []
   },
   "outputs": [],
   "source": [
    "corr = ...\n"
   ]
  },
  {
   "cell_type": "code",
   "execution_count": null,
   "metadata": {
    "deletable": false,
    "editable": false
   },
   "outputs": [],
   "source": [
    "grader.check(\"grants-corr\")"
   ]
  },
  {
   "cell_type": "markdown",
   "metadata": {},
   "source": [
    "<!-- BEGIN QUESTION -->\n",
    "\n",
    "**4.** Make a scatter plot of total rebate as a function of total cost, separating into columns by *Sector*."
   ]
  },
  {
   "cell_type": "code",
   "execution_count": null,
   "metadata": {
    "tags": []
   },
   "outputs": [],
   "source": [
    "..."
   ]
  },
  {
   "cell_type": "markdown",
   "metadata": {},
   "source": [
    "<!-- END QUESTION -->\n",
    "\n",
    "**5.** Find the Spearman correlation coefficient between total system costs and total rebate within each type of *Sector*. (The result should be a series of 5 positive values.)"
   ]
  },
  {
   "cell_type": "code",
   "execution_count": null,
   "metadata": {
    "tags": []
   },
   "outputs": [],
   "source": [
    "corr_bysector = ...\n"
   ]
  },
  {
   "cell_type": "code",
   "execution_count": null,
   "metadata": {
    "tags": []
   },
   "outputs": [],
   "source": [
    "pd.Series(C.values,index=[i[0] for i in C.index])"
   ]
  },
  {
   "cell_type": "code",
   "execution_count": null,
   "metadata": {
    "deletable": false,
    "editable": false
   },
   "outputs": [],
   "source": [
    "grader.check(\"grants-corr_sector\")"
   ]
  },
  {
   "cell_type": "markdown",
   "metadata": {
    "deletable": false,
    "editable": false
   },
   "source": [
    "---\n",
    "\n",
    "To double-check your work, the cell below will rerun all of the autograder tests."
   ]
  },
  {
   "cell_type": "code",
   "execution_count": null,
   "metadata": {
    "deletable": false,
    "editable": false
   },
   "outputs": [],
   "source": [
    "grader.check_all()"
   ]
  },
  {
   "cell_type": "markdown",
   "metadata": {
    "deletable": false,
    "editable": false
   },
   "source": [
    "## Submission\n",
    "\n",
    "Make sure you have run all cells in your notebook in order before running the cell below, so that all images/graphs appear in the output. The cell below will generate a zip file for you to submit.\n",
    "\n",
    "Select *Kernel/Restart & Run All*, then save, then run this export cell again. Submit by pushing the resulting zip file to your GitHub assignment repo."
   ]
  },
  {
   "cell_type": "code",
   "execution_count": null,
   "metadata": {
    "deletable": false,
    "editable": false
   },
   "outputs": [],
   "source": [
    "grader.export(pdf=False, force_save=True)"
   ]
  },
  {
   "cell_type": "markdown",
   "metadata": {},
   "source": [
    " "
   ]
  }
 ],
 "metadata": {
  "interpreter": {
   "hash": "0cf6273b2f0cea9a779bc7d280535c5e5f4a806bee5f7a87ff212d1397aee730"
  },
  "kernelspec": {
   "display_name": "Python 3 (ipykernel)",
   "language": "python",
   "name": "python3"
  },
  "language_info": {
   "codemirror_mode": {
    "name": "ipython",
    "version": 3
   },
   "file_extension": ".py",
   "mimetype": "text/x-python",
   "name": "python",
   "nbconvert_exporter": "python",
   "pygments_lexer": "ipython3",
   "version": "3.8.8"
  },
  "otter": {
   "tests": {
    "birds-Dec": {
     "name": "birds-Dec",
     "points": null,
     "suites": [
      {
       "cases": [],
       "scored": true,
       "setup": "",
       "teardown": "",
       "type": "doctest"
      }
     ]
    },
    "birds-canada": {
     "name": "birds-canada",
     "points": null,
     "suites": [
      {
       "cases": [
        {
         "code": ">>> assert len(canada) == 11\n",
         "failure_message": "The length of the value is incorrect.",
         "hidden": false,
         "locked": false
        },
        {
         "code": ">>> assert canada[3.0] == 1968090\n",
         "failure_message": "Zone 3 value is incorrect.",
         "hidden": false,
         "locked": false
        }
       ],
       "scored": true,
       "setup": "",
       "teardown": "",
       "type": "doctest"
      }
     ]
    },
    "birds-load": {
     "name": "birds-load",
     "points": null,
     "suites": [
      {
       "cases": [
        {
         "code": ">>> assert birds.shape == (2045,37)\n",
         "failure_message": "The shape of the value is incorrect.",
         "hidden": false,
         "locked": false
        }
       ],
       "scored": true,
       "setup": "",
       "teardown": "",
       "type": "doctest"
      }
     ]
    },
    "birds-pearson": {
     "name": "birds-pearson",
     "points": null,
     "suites": [
      {
       "cases": [
        {
         "code": ">>> \n>>> assert duckduck.shape==(4,4)\n",
         "failure_message": "The shape is incorrect.",
         "hidden": false,
         "locked": false
        },
        {
         "code": ">>> assert np.isclose(duckduck.loc['Mallard','Wood Duck'],-0.0058356786949663115)\n",
         "failure_message": "At least one correlation value is incorrect.",
         "hidden": false,
         "locked": false
        }
       ],
       "scored": true,
       "setup": "",
       "teardown": "",
       "type": "doctest"
      }
     ]
    },
    "birds-spearman": {
     "name": "birds-spearman",
     "points": null,
     "suites": [
      {
       "cases": [
        {
         "code": ">>> \n>>> assert duckspear.shape==(4,4)\n",
         "failure_message": "The shape is incorrect.",
         "hidden": false,
         "locked": false
        },
        {
         "code": ">>> assert np.isclose(duckspear.loc['Mallard','Wood Duck'],0.16751354618493336)\n",
         "failure_message": "At least one correlation value is incorrect.",
         "hidden": false,
         "locked": false
        }
       ],
       "scored": true,
       "setup": "",
       "teardown": "",
       "type": "doctest"
      }
     ]
    },
    "birds-zone3": {
     "name": "birds-zone3",
     "points": null,
     "suites": [
      {
       "cases": [
        {
         "code": ">>> for bird in ['Atlantic Brant', 'Canada Goose', 'Snow Goose',\n...        'Greater White-fronted Goose', 'American Black Duck', 'Mallard',\n...        'Northern Pintail', 'American Green-winged Teal', 'Blue-winged Teal',\n...        'Gadwall', 'American Wigeon', 'Northern Shoveler', 'Wood Duck',\n...        'Canvasback', 'Redhead', 'Scaup', 'Ring-necked Duck',\n...        'Common Merganser', 'Red-breasted Merganser', 'Hooded Merganser',\n...        'Mergansers', 'Ruddy Duck', 'White-winged Scoter', 'Surf Scoter',\n...        'Black Scoter', 'Scoters', 'Bufflehead', 'Common Goldeneye',\n...        'Long-tailed Duck', 'Mute Swan', 'Tundra Swan', 'American Coot']:\n...        assert bird in zone3.index\n",
         "failure_message": "Missing at least one species.",
         "hidden": false,
         "locked": false
        }
       ],
       "scored": true,
       "setup": "",
       "teardown": "",
       "type": "doctest"
      }
     ]
    },
    "births-load": {
     "name": "births-load",
     "points": null,
     "suites": [
      {
       "cases": [
        {
         "code": ">>> assert births.shape==(96457,18)\n",
         "hidden": false,
         "locked": false
        }
       ],
       "scored": true,
       "setup": "",
       "teardown": "",
       "type": "doctest"
      }
     ]
    },
    "grants-capital": {
     "name": "grants-capital",
     "points": null,
     "suites": [
      {
       "cases": [
        {
         "code": ">>> for col in [\"mean\",\"std\",\"25%\",\"50%\",\"75%\"]:\n...     assert col in stats.index\n",
         "failure_message": "Use names \"mean\", \"std\", \"25%\", \"50%\", \"75%\" in the index.",
         "hidden": false,
         "locked": false
        },
        {
         "code": ">>> assert np.isclose(grants.percent.mean(),18.192261185675047)\n",
         "failure_message": "Values in the percent column may be incorrect.",
         "hidden": false,
         "locked": false
        }
       ],
       "scored": true,
       "setup": "",
       "teardown": "",
       "type": "doctest"
      }
     ]
    },
    "grants-corr": {
     "name": "grants-corr",
     "points": null,
     "suites": [
      {
       "cases": [
        {
         "code": ">>> assert type(corr) in [float,np.float64]\n",
         "failure_message": "The result should be a single floating-point number.",
         "hidden": false,
         "locked": false
        }
       ],
       "scored": true,
       "setup": "",
       "teardown": "",
       "type": "doctest"
      }
     ]
    },
    "grants-corr_sector": {
     "name": "grants-corr_sector",
     "points": null,
     "suites": [
      {
       "cases": [
        {
         "code": ">>> assert type(corr_bysector) == pd.Series\n",
         "failure_message": "Result must be of type Series.",
         "hidden": false,
         "locked": false
        },
        {
         "code": ">>> assert np.isclose(corr_bysector[\"Non_Residential\"],0.8185436634413635)\n",
         "failure_message": "At least one value is missing or wrong.",
         "hidden": false,
         "locked": false
        }
       ],
       "scored": true,
       "setup": "",
       "teardown": "",
       "type": "doctest"
      }
     ]
    },
    "grants-load": {
     "name": "grants-load",
     "points": null,
     "suites": [
      {
       "cases": [
        {
         "code": ">>> assert grants.shape==(5187,15)\n",
         "failure_message": "The data frame has the wrong shape.",
         "hidden": false,
         "locked": false
        },
        {
         "code": ">>> assert list(grants.Sector.unique())==['Residential', 'Non_Residential', 'Solar Lease', 'Solar PPA',\n...        'Non_Profit']\n",
         "failure_message": "The *Sector* column does not have all correct possible values.",
         "hidden": false,
         "locked": false
        }
       ],
       "scored": true,
       "setup": "",
       "teardown": "",
       "type": "doctest"
      }
     ]
    },
    "inspect-bycity": {
     "name": "inspect-bycity",
     "points": null,
     "suites": [
      {
       "cases": [
        {
         "code": ">>> assert len(violation_bycity)==43\n",
         "hidden": false,
         "locked": false
        },
        {
         "code": ">>> assert np.isclose(violation_bycity[\"WILMINGTON\"],2.304147465437788)\n",
         "hidden": false,
         "locked": false
        }
       ],
       "scored": true,
       "setup": "",
       "teardown": "",
       "type": "doctest"
      }
     ]
    },
    "inspect-load": {
     "name": "inspect-load",
     "points": null,
     "suites": [
      {
       "cases": [
        {
         "code": ">>> assert inspects.shape == (1647,9)\n",
         "hidden": false,
         "locked": false
        },
        {
         "code": ">>> assert inspects.loc[1000,\"Food Establishment Zip Code\"] == 19971\n",
         "hidden": false,
         "locked": false
        }
       ],
       "scored": true,
       "setup": "",
       "teardown": "",
       "type": "doctest"
      }
     ]
    },
    "inspect-nan": {
     "name": "inspect-nan",
     "points": null,
     "suites": [
      {
       "cases": [],
       "scored": true,
       "setup": "",
       "teardown": "",
       "type": "doctest"
      }
     ]
    }
   }
  }
 },
 "nbformat": 4,
 "nbformat_minor": 4
}
